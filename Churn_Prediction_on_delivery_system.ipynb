{
 "cells": [
  {
   "cell_type": "code",
   "execution_count": 1,
   "metadata": {},
   "outputs": [],
   "source": [
    "import numpy as np\n",
    "import pandas as pd\n",
    "import seaborn as sns\n",
    "from sklearn import preprocessing\n",
    "\n",
    "from sklearn.preprocessing import StandardScaler\n",
    "\n",
    "from sklearn.metrics import mean_squared_error\n",
    "\n",
    "from sklearn import linear_model\n",
    "\n",
    "import matplotlib.pyplot as plt\n",
    "%matplotlib inline\n",
    "\n",
    "import os"
   ]
  },
  {
   "cell_type": "code",
   "execution_count": 2,
   "metadata": {},
   "outputs": [],
   "source": [
    "from sklearn.linear_model import LinearRegression\n",
    "import statsmodels.formula.api as smf\n",
    "from sklearn.model_selection import train_test_split\n",
    "from sklearn.metrics import mean_squared_error, r2_score"
   ]
  },
  {
   "cell_type": "code",
   "execution_count": 3,
   "metadata": {},
   "outputs": [],
   "source": [
    "# Importing dataset\n",
    "df=pd.read_csv('onlinedeliverydataforchurnpred.csv')"
   ]
  },
  {
   "cell_type": "code",
   "execution_count": 4,
   "metadata": {},
   "outputs": [
    {
     "data": {
      "text/html": [
       "<div>\n",
       "<style scoped>\n",
       "    .dataframe tbody tr th:only-of-type {\n",
       "        vertical-align: middle;\n",
       "    }\n",
       "\n",
       "    .dataframe tbody tr th {\n",
       "        vertical-align: top;\n",
       "    }\n",
       "\n",
       "    .dataframe thead th {\n",
       "        text-align: right;\n",
       "    }\n",
       "</style>\n",
       "<table border=\"1\" class=\"dataframe\">\n",
       "  <thead>\n",
       "    <tr style=\"text-align: right;\">\n",
       "      <th></th>\n",
       "      <th>Age</th>\n",
       "      <th>Gender</th>\n",
       "      <th>Marital_Status</th>\n",
       "      <th>Occupation</th>\n",
       "      <th>Monthly_Income</th>\n",
       "      <th>Family_size</th>\n",
       "      <th>Pin code</th>\n",
       "      <th>Medium</th>\n",
       "      <th>Meal</th>\n",
       "      <th>Perference</th>\n",
       "      <th>...</th>\n",
       "      <th>Residence_in_busy_location</th>\n",
       "      <th>Influence_of_rating</th>\n",
       "      <th>Less_Delivery_time</th>\n",
       "      <th>High_Quality_of_package</th>\n",
       "      <th>Politeness</th>\n",
       "      <th>Freshness</th>\n",
       "      <th>Temperature</th>\n",
       "      <th>Good_Taste</th>\n",
       "      <th>Good_Quantity</th>\n",
       "      <th>Output</th>\n",
       "    </tr>\n",
       "  </thead>\n",
       "  <tbody>\n",
       "    <tr>\n",
       "      <th>0</th>\n",
       "      <td>20</td>\n",
       "      <td>Female</td>\n",
       "      <td>Single</td>\n",
       "      <td>Student</td>\n",
       "      <td>No Income</td>\n",
       "      <td>4</td>\n",
       "      <td>560001</td>\n",
       "      <td>Food delivery apps</td>\n",
       "      <td>Breakfast</td>\n",
       "      <td>Non Veg foods (Lunch / Dinner)</td>\n",
       "      <td>...</td>\n",
       "      <td>Agree</td>\n",
       "      <td>Yes</td>\n",
       "      <td>Moderately Important</td>\n",
       "      <td>Moderately Important</td>\n",
       "      <td>Moderately Important</td>\n",
       "      <td>Moderately Important</td>\n",
       "      <td>Moderately Important</td>\n",
       "      <td>Moderately Important</td>\n",
       "      <td>Moderately Important</td>\n",
       "      <td>Yes</td>\n",
       "    </tr>\n",
       "    <tr>\n",
       "      <th>1</th>\n",
       "      <td>24</td>\n",
       "      <td>Female</td>\n",
       "      <td>Single</td>\n",
       "      <td>Student</td>\n",
       "      <td>Below Rs.10000</td>\n",
       "      <td>3</td>\n",
       "      <td>560009</td>\n",
       "      <td>Food delivery apps</td>\n",
       "      <td>Snacks</td>\n",
       "      <td>Non Veg foods (Lunch / Dinner)</td>\n",
       "      <td>...</td>\n",
       "      <td>Strongly Agree</td>\n",
       "      <td>Yes</td>\n",
       "      <td>Very Important</td>\n",
       "      <td>Very Important</td>\n",
       "      <td>Very Important</td>\n",
       "      <td>Very Important</td>\n",
       "      <td>Very Important</td>\n",
       "      <td>Very Important</td>\n",
       "      <td>Very Important</td>\n",
       "      <td>Yes</td>\n",
       "    </tr>\n",
       "    <tr>\n",
       "      <th>2</th>\n",
       "      <td>22</td>\n",
       "      <td>Male</td>\n",
       "      <td>Single</td>\n",
       "      <td>Student</td>\n",
       "      <td>Below Rs.10000</td>\n",
       "      <td>3</td>\n",
       "      <td>560017</td>\n",
       "      <td>Food delivery apps</td>\n",
       "      <td>Lunch</td>\n",
       "      <td>Non Veg foods (Lunch / Dinner)</td>\n",
       "      <td>...</td>\n",
       "      <td>Agree</td>\n",
       "      <td>Yes</td>\n",
       "      <td>Important</td>\n",
       "      <td>Very Important</td>\n",
       "      <td>Very Important</td>\n",
       "      <td>Very Important</td>\n",
       "      <td>Important</td>\n",
       "      <td>Very Important</td>\n",
       "      <td>Moderately Important</td>\n",
       "      <td>Yes</td>\n",
       "    </tr>\n",
       "    <tr>\n",
       "      <th>3</th>\n",
       "      <td>22</td>\n",
       "      <td>Female</td>\n",
       "      <td>Single</td>\n",
       "      <td>Student</td>\n",
       "      <td>No Income</td>\n",
       "      <td>6</td>\n",
       "      <td>560019</td>\n",
       "      <td>Food delivery apps</td>\n",
       "      <td>Snacks</td>\n",
       "      <td>Veg foods (Breakfast / Lunch / Dinner)</td>\n",
       "      <td>...</td>\n",
       "      <td>Disagree</td>\n",
       "      <td>Yes</td>\n",
       "      <td>Very Important</td>\n",
       "      <td>Important</td>\n",
       "      <td>Very Important</td>\n",
       "      <td>Very Important</td>\n",
       "      <td>Very Important</td>\n",
       "      <td>Very Important</td>\n",
       "      <td>Important</td>\n",
       "      <td>Yes</td>\n",
       "    </tr>\n",
       "    <tr>\n",
       "      <th>4</th>\n",
       "      <td>22</td>\n",
       "      <td>Male</td>\n",
       "      <td>Single</td>\n",
       "      <td>Student</td>\n",
       "      <td>Below Rs.10000</td>\n",
       "      <td>4</td>\n",
       "      <td>560010</td>\n",
       "      <td>Walk-in</td>\n",
       "      <td>Lunch</td>\n",
       "      <td>Non Veg foods (Lunch / Dinner)</td>\n",
       "      <td>...</td>\n",
       "      <td>Agree</td>\n",
       "      <td>Yes</td>\n",
       "      <td>Important</td>\n",
       "      <td>Important</td>\n",
       "      <td>Important</td>\n",
       "      <td>Important</td>\n",
       "      <td>Important</td>\n",
       "      <td>Very Important</td>\n",
       "      <td>Very Important</td>\n",
       "      <td>Yes</td>\n",
       "    </tr>\n",
       "    <tr>\n",
       "      <th>...</th>\n",
       "      <td>...</td>\n",
       "      <td>...</td>\n",
       "      <td>...</td>\n",
       "      <td>...</td>\n",
       "      <td>...</td>\n",
       "      <td>...</td>\n",
       "      <td>...</td>\n",
       "      <td>...</td>\n",
       "      <td>...</td>\n",
       "      <td>...</td>\n",
       "      <td>...</td>\n",
       "      <td>...</td>\n",
       "      <td>...</td>\n",
       "      <td>...</td>\n",
       "      <td>...</td>\n",
       "      <td>...</td>\n",
       "      <td>...</td>\n",
       "      <td>...</td>\n",
       "      <td>...</td>\n",
       "      <td>...</td>\n",
       "      <td>...</td>\n",
       "    </tr>\n",
       "    <tr>\n",
       "      <th>383</th>\n",
       "      <td>23</td>\n",
       "      <td>Female</td>\n",
       "      <td>Single</td>\n",
       "      <td>Student</td>\n",
       "      <td>No Income</td>\n",
       "      <td>2</td>\n",
       "      <td>560001</td>\n",
       "      <td>Food delivery apps</td>\n",
       "      <td>Dinner</td>\n",
       "      <td>Non Veg foods (Lunch / Dinner)</td>\n",
       "      <td>...</td>\n",
       "      <td>Disagree</td>\n",
       "      <td>Maybe</td>\n",
       "      <td>Important</td>\n",
       "      <td>Important</td>\n",
       "      <td>Important</td>\n",
       "      <td>Important</td>\n",
       "      <td>Important</td>\n",
       "      <td>Important</td>\n",
       "      <td>Important</td>\n",
       "      <td>Yes</td>\n",
       "    </tr>\n",
       "    <tr>\n",
       "      <th>384</th>\n",
       "      <td>23</td>\n",
       "      <td>Female</td>\n",
       "      <td>Single</td>\n",
       "      <td>Student</td>\n",
       "      <td>No Income</td>\n",
       "      <td>4</td>\n",
       "      <td>560048</td>\n",
       "      <td>Food delivery apps</td>\n",
       "      <td>Lunch</td>\n",
       "      <td>Non Veg foods (Lunch / Dinner)</td>\n",
       "      <td>...</td>\n",
       "      <td>Agree</td>\n",
       "      <td>Yes</td>\n",
       "      <td>Moderately Important</td>\n",
       "      <td>Very Important</td>\n",
       "      <td>Moderately Important</td>\n",
       "      <td>Moderately Important</td>\n",
       "      <td>Moderately Important</td>\n",
       "      <td>Very Important</td>\n",
       "      <td>Very Important</td>\n",
       "      <td>Yes</td>\n",
       "    </tr>\n",
       "    <tr>\n",
       "      <th>385</th>\n",
       "      <td>22</td>\n",
       "      <td>Female</td>\n",
       "      <td>Single</td>\n",
       "      <td>Student</td>\n",
       "      <td>No Income</td>\n",
       "      <td>5</td>\n",
       "      <td>560010</td>\n",
       "      <td>Food delivery apps</td>\n",
       "      <td>Snacks</td>\n",
       "      <td>Non Veg foods (Lunch / Dinner)</td>\n",
       "      <td>...</td>\n",
       "      <td>Agree</td>\n",
       "      <td>Yes</td>\n",
       "      <td>Important</td>\n",
       "      <td>Very Important</td>\n",
       "      <td>Important</td>\n",
       "      <td>Very Important</td>\n",
       "      <td>Very Important</td>\n",
       "      <td>Very Important</td>\n",
       "      <td>Very Important</td>\n",
       "      <td>Yes</td>\n",
       "    </tr>\n",
       "    <tr>\n",
       "      <th>386</th>\n",
       "      <td>23</td>\n",
       "      <td>Male</td>\n",
       "      <td>Single</td>\n",
       "      <td>Student</td>\n",
       "      <td>Below Rs.10000</td>\n",
       "      <td>2</td>\n",
       "      <td>560009</td>\n",
       "      <td>Food delivery apps</td>\n",
       "      <td>Lunch</td>\n",
       "      <td>Non Veg foods (Lunch / Dinner)</td>\n",
       "      <td>...</td>\n",
       "      <td>Strongly Agree</td>\n",
       "      <td>Yes</td>\n",
       "      <td>Important</td>\n",
       "      <td>Very Important</td>\n",
       "      <td>Very Important</td>\n",
       "      <td>Very Important</td>\n",
       "      <td>Important</td>\n",
       "      <td>Very Important</td>\n",
       "      <td>Very Important</td>\n",
       "      <td>Yes</td>\n",
       "    </tr>\n",
       "    <tr>\n",
       "      <th>387</th>\n",
       "      <td>23</td>\n",
       "      <td>Male</td>\n",
       "      <td>Single</td>\n",
       "      <td>Student</td>\n",
       "      <td>No Income</td>\n",
       "      <td>5</td>\n",
       "      <td>560078</td>\n",
       "      <td>Walk-in</td>\n",
       "      <td>Snacks</td>\n",
       "      <td>Non Veg foods (Lunch / Dinner)</td>\n",
       "      <td>...</td>\n",
       "      <td>Agree</td>\n",
       "      <td>Maybe</td>\n",
       "      <td>Slightly Important</td>\n",
       "      <td>Unimportant</td>\n",
       "      <td>Moderately Important</td>\n",
       "      <td>Moderately Important</td>\n",
       "      <td>Moderately Important</td>\n",
       "      <td>Moderately Important</td>\n",
       "      <td>Slightly Important</td>\n",
       "      <td>Yes</td>\n",
       "    </tr>\n",
       "  </tbody>\n",
       "</table>\n",
       "<p>388 rows × 36 columns</p>\n",
       "</div>"
      ],
      "text/plain": [
       "     Age  Gender Marital_Status Occupation  Monthly_Income  Family_size  \\\n",
       "0     20  Female         Single    Student       No Income            4   \n",
       "1     24  Female         Single    Student  Below Rs.10000            3   \n",
       "2     22    Male         Single    Student  Below Rs.10000            3   \n",
       "3     22  Female         Single    Student       No Income            6   \n",
       "4     22    Male         Single    Student  Below Rs.10000            4   \n",
       "..   ...     ...            ...        ...             ...          ...   \n",
       "383   23  Female         Single    Student       No Income            2   \n",
       "384   23  Female         Single    Student       No Income            4   \n",
       "385   22  Female         Single    Student       No Income            5   \n",
       "386   23    Male         Single    Student  Below Rs.10000            2   \n",
       "387   23    Male         Single    Student       No Income            5   \n",
       "\n",
       "     Pin code              Medium       Meal  \\\n",
       "0      560001  Food delivery apps  Breakfast   \n",
       "1      560009  Food delivery apps     Snacks   \n",
       "2      560017  Food delivery apps      Lunch   \n",
       "3      560019  Food delivery apps     Snacks   \n",
       "4      560010             Walk-in      Lunch   \n",
       "..        ...                 ...        ...   \n",
       "383    560001  Food delivery apps     Dinner   \n",
       "384    560048  Food delivery apps      Lunch   \n",
       "385    560010  Food delivery apps     Snacks   \n",
       "386    560009  Food delivery apps      Lunch   \n",
       "387    560078             Walk-in     Snacks   \n",
       "\n",
       "                                 Perference  ... Residence_in_busy_location  \\\n",
       "0            Non Veg foods (Lunch / Dinner)  ...                      Agree   \n",
       "1            Non Veg foods (Lunch / Dinner)  ...             Strongly Agree   \n",
       "2            Non Veg foods (Lunch / Dinner)  ...                      Agree   \n",
       "3    Veg foods (Breakfast / Lunch / Dinner)  ...                   Disagree   \n",
       "4            Non Veg foods (Lunch / Dinner)  ...                      Agree   \n",
       "..                                      ...  ...                        ...   \n",
       "383          Non Veg foods (Lunch / Dinner)  ...                   Disagree   \n",
       "384          Non Veg foods (Lunch / Dinner)  ...                      Agree   \n",
       "385          Non Veg foods (Lunch / Dinner)  ...                      Agree   \n",
       "386          Non Veg foods (Lunch / Dinner)  ...             Strongly Agree   \n",
       "387          Non Veg foods (Lunch / Dinner)  ...                      Agree   \n",
       "\n",
       "    Influence_of_rating    Less_Delivery_time High_Quality_of_package  \\\n",
       "0                   Yes  Moderately Important    Moderately Important   \n",
       "1                   Yes        Very Important          Very Important   \n",
       "2                   Yes             Important          Very Important   \n",
       "3                   Yes        Very Important               Important   \n",
       "4                   Yes             Important               Important   \n",
       "..                  ...                   ...                     ...   \n",
       "383               Maybe             Important               Important   \n",
       "384                 Yes  Moderately Important          Very Important   \n",
       "385                 Yes             Important          Very Important   \n",
       "386                 Yes             Important          Very Important   \n",
       "387               Maybe    Slightly Important             Unimportant   \n",
       "\n",
       "               Politeness            Freshness            Temperature  \\\n",
       "0    Moderately Important  Moderately Important  Moderately Important   \n",
       "1          Very Important        Very Important        Very Important   \n",
       "2          Very Important        Very Important             Important   \n",
       "3          Very Important        Very Important        Very Important   \n",
       "4               Important             Important             Important   \n",
       "..                    ...                   ...                   ...   \n",
       "383             Important             Important             Important   \n",
       "384  Moderately Important  Moderately Important  Moderately Important   \n",
       "385             Important        Very Important        Very Important   \n",
       "386        Very Important        Very Important             Important   \n",
       "387  Moderately Important  Moderately Important  Moderately Important   \n",
       "\n",
       "              Good_Taste          Good_Quantity Output  \n",
       "0    Moderately Important  Moderately Important    Yes  \n",
       "1          Very Important        Very Important    Yes  \n",
       "2          Very Important  Moderately Important    Yes  \n",
       "3          Very Important             Important    Yes  \n",
       "4          Very Important        Very Important    Yes  \n",
       "..                    ...                   ...    ...  \n",
       "383             Important             Important    Yes  \n",
       "384        Very Important        Very Important    Yes  \n",
       "385        Very Important        Very Important    Yes  \n",
       "386        Very Important        Very Important    Yes  \n",
       "387  Moderately Important    Slightly Important    Yes  \n",
       "\n",
       "[388 rows x 36 columns]"
      ]
     },
     "execution_count": 4,
     "metadata": {},
     "output_type": "execute_result"
    }
   ],
   "source": [
    "df"
   ]
  },
  {
   "cell_type": "code",
   "execution_count": 5,
   "metadata": {},
   "outputs": [
    {
     "data": {
      "text/plain": [
       "(388, 36)"
      ]
     },
     "execution_count": 5,
     "metadata": {},
     "output_type": "execute_result"
    }
   ],
   "source": [
    "df.shape"
   ]
  },
  {
   "cell_type": "code",
   "execution_count": 6,
   "metadata": {},
   "outputs": [
    {
     "name": "stdout",
     "output_type": "stream",
     "text": [
      "<class 'pandas.core.frame.DataFrame'>\n",
      "RangeIndex: 388 entries, 0 to 387\n",
      "Data columns (total 36 columns):\n",
      " #   Column                               Non-Null Count  Dtype \n",
      "---  ------                               --------------  ----- \n",
      " 0   Age                                  388 non-null    int64 \n",
      " 1   Gender                               388 non-null    object\n",
      " 2   Marital_Status                       388 non-null    object\n",
      " 3   Occupation                           388 non-null    object\n",
      " 4   Monthly_Income                       388 non-null    object\n",
      " 5   Family_size                          388 non-null    int64 \n",
      " 6   Pin code                             388 non-null    int64 \n",
      " 7   Medium                               388 non-null    object\n",
      " 8   Meal                                 388 non-null    object\n",
      " 9   Perference                           388 non-null    object\n",
      " 10  Ease_and_convenient                  388 non-null    object\n",
      " 11  Time_saving                          388 non-null    object\n",
      " 12  Easy_Payment_option                  388 non-null    object\n",
      " 13  More_Offers_and_Discount             388 non-null    object\n",
      " 14  Good_Food_quality                    388 non-null    object\n",
      " 15  Good_Tracking_system                 388 non-null    object\n",
      " 16  Late_Delivery                        388 non-null    object\n",
      " 17  Poor_Hygiene                         388 non-null    object\n",
      " 18  Bad_past_experience                  388 non-null    object\n",
      " 19  Long_delivery_time                   388 non-null    object\n",
      " 20  Delay_in_assigning_delivery_ person  388 non-null    object\n",
      " 21  Delay_in_picking_up_food             388 non-null    object\n",
      " 22  Wrong_order_delivered                388 non-null    object\n",
      " 23  Missing_item                         388 non-null    object\n",
      " 24  Order Time                           388 non-null    object\n",
      " 25  Maximum wait time                    388 non-null    object\n",
      " 26  Residence_in_busy_location           388 non-null    object\n",
      " 27  Influence_of_rating                  388 non-null    object\n",
      " 28  Less_Delivery_time                   388 non-null    object\n",
      " 29  High_Quality_of_package              388 non-null    object\n",
      " 30  Politeness                           388 non-null    object\n",
      " 31  Freshness                            388 non-null    object\n",
      " 32  Temperature                          388 non-null    object\n",
      " 33  Good_Taste                           388 non-null    object\n",
      " 34  Good_Quantity                        388 non-null    object\n",
      " 35  Output                               388 non-null    object\n",
      "dtypes: int64(3), object(33)\n",
      "memory usage: 109.2+ KB\n"
     ]
    }
   ],
   "source": [
    "df.info()"
   ]
  },
  {
   "cell_type": "code",
   "execution_count": 7,
   "metadata": {},
   "outputs": [
    {
     "data": {
      "text/html": [
       "<div>\n",
       "<style scoped>\n",
       "    .dataframe tbody tr th:only-of-type {\n",
       "        vertical-align: middle;\n",
       "    }\n",
       "\n",
       "    .dataframe tbody tr th {\n",
       "        vertical-align: top;\n",
       "    }\n",
       "\n",
       "    .dataframe thead th {\n",
       "        text-align: right;\n",
       "    }\n",
       "</style>\n",
       "<table border=\"1\" class=\"dataframe\">\n",
       "  <thead>\n",
       "    <tr style=\"text-align: right;\">\n",
       "      <th></th>\n",
       "      <th>Age</th>\n",
       "      <th>Family_size</th>\n",
       "      <th>Pin code</th>\n",
       "    </tr>\n",
       "  </thead>\n",
       "  <tbody>\n",
       "    <tr>\n",
       "      <th>count</th>\n",
       "      <td>388.000000</td>\n",
       "      <td>388.000000</td>\n",
       "      <td>388.000000</td>\n",
       "    </tr>\n",
       "    <tr>\n",
       "      <th>mean</th>\n",
       "      <td>24.628866</td>\n",
       "      <td>3.280928</td>\n",
       "      <td>560040.113402</td>\n",
       "    </tr>\n",
       "    <tr>\n",
       "      <th>std</th>\n",
       "      <td>2.975593</td>\n",
       "      <td>1.351025</td>\n",
       "      <td>31.399609</td>\n",
       "    </tr>\n",
       "    <tr>\n",
       "      <th>min</th>\n",
       "      <td>18.000000</td>\n",
       "      <td>1.000000</td>\n",
       "      <td>560001.000000</td>\n",
       "    </tr>\n",
       "    <tr>\n",
       "      <th>25%</th>\n",
       "      <td>23.000000</td>\n",
       "      <td>2.000000</td>\n",
       "      <td>560010.750000</td>\n",
       "    </tr>\n",
       "    <tr>\n",
       "      <th>50%</th>\n",
       "      <td>24.000000</td>\n",
       "      <td>3.000000</td>\n",
       "      <td>560033.500000</td>\n",
       "    </tr>\n",
       "    <tr>\n",
       "      <th>75%</th>\n",
       "      <td>26.000000</td>\n",
       "      <td>4.000000</td>\n",
       "      <td>560068.000000</td>\n",
       "    </tr>\n",
       "    <tr>\n",
       "      <th>max</th>\n",
       "      <td>33.000000</td>\n",
       "      <td>6.000000</td>\n",
       "      <td>560109.000000</td>\n",
       "    </tr>\n",
       "  </tbody>\n",
       "</table>\n",
       "</div>"
      ],
      "text/plain": [
       "              Age  Family_size       Pin code\n",
       "count  388.000000   388.000000     388.000000\n",
       "mean    24.628866     3.280928  560040.113402\n",
       "std      2.975593     1.351025      31.399609\n",
       "min     18.000000     1.000000  560001.000000\n",
       "25%     23.000000     2.000000  560010.750000\n",
       "50%     24.000000     3.000000  560033.500000\n",
       "75%     26.000000     4.000000  560068.000000\n",
       "max     33.000000     6.000000  560109.000000"
      ]
     },
     "execution_count": 7,
     "metadata": {},
     "output_type": "execute_result"
    }
   ],
   "source": [
    "df.describe()"
   ]
  },
  {
   "cell_type": "code",
   "execution_count": 8,
   "metadata": {},
   "outputs": [
    {
     "data": {
      "text/plain": [
       "False"
      ]
     },
     "execution_count": 8,
     "metadata": {},
     "output_type": "execute_result"
    }
   ],
   "source": [
    "#To check if our dataset contains any null/NA value\n",
    "#pd.isnull(df)\n",
    "df.isnull().values.any()"
   ]
  },
  {
   "cell_type": "code",
   "execution_count": 9,
   "metadata": {},
   "outputs": [
    {
     "data": {
      "text/plain": [
       "Age                                    0\n",
       "Gender                                 0\n",
       "Marital_Status                         0\n",
       "Occupation                             0\n",
       "Monthly_Income                         0\n",
       "Family_size                            0\n",
       "Pin code                               0\n",
       "Medium                                 0\n",
       "Meal                                   0\n",
       "Perference                             0\n",
       "Ease_and_convenient                    0\n",
       "Time_saving                            0\n",
       "Easy_Payment_option                    0\n",
       "More_Offers_and_Discount               0\n",
       "Good_Food_quality                      0\n",
       "Good_Tracking_system                   0\n",
       "Late_Delivery                          0\n",
       "Poor_Hygiene                           0\n",
       "Bad_past_experience                    0\n",
       "Long_delivery_time                     0\n",
       "Delay_in_assigning_delivery_ person    0\n",
       "Delay_in_picking_up_food               0\n",
       "Wrong_order_delivered                  0\n",
       "Missing_item                           0\n",
       "Order Time                             0\n",
       "Maximum wait time                      0\n",
       "Residence_in_busy_location             0\n",
       "Influence_of_rating                    0\n",
       "Less_Delivery_time                     0\n",
       "High_Quality_of_package                0\n",
       "Politeness                             0\n",
       "Freshness                              0\n",
       "Temperature                            0\n",
       "Good_Taste                             0\n",
       "Good_Quantity                          0\n",
       "Output                                 0\n",
       "dtype: int64"
      ]
     },
     "execution_count": 9,
     "metadata": {},
     "output_type": "execute_result"
    }
   ],
   "source": [
    "#If we NA values exist, then to find total count of NA values\n",
    "df.isnull().sum()"
   ]
  },
  {
   "cell_type": "markdown",
   "metadata": {},
   "source": [
    "### NO missing values\n"
   ]
  },
  {
   "cell_type": "code",
   "execution_count": 10,
   "metadata": {},
   "outputs": [],
   "source": [
    "#import pandas_profiling as pp"
   ]
  },
  {
   "cell_type": "code",
   "execution_count": 11,
   "metadata": {},
   "outputs": [],
   "source": [
    "#report = pp.ProfileReport(df)\n",
    "#report.to_file(\"report.html\")"
   ]
  },
  {
   "cell_type": "code",
   "execution_count": null,
   "metadata": {},
   "outputs": [],
   "source": []
  },
  {
   "cell_type": "code",
   "execution_count": 12,
   "metadata": {},
   "outputs": [
    {
     "data": {
      "image/png": "[encoded data removed]",
      "text/plain": [
       "<Figure size 864x864 with 4 Axes>"
      ]
     },
     "metadata": {
      "needs_background": "light"
     },
     "output_type": "display_data"
    }
   ],
   "source": [
    "# to plot histograms (to check distribution of variables) of all the variables in a dataframe\n",
    "df.hist(sharex=False, sharey=False, xlabelsize=1, ylabelsize=1, figsize =(12,12))\n",
    "plt.show()"
   ]
  },
  {
   "cell_type": "code",
   "execution_count": 13,
   "metadata": {},
   "outputs": [
    {
     "data": {
      "image/png": "[encoded data removed]",
      "text/plain": [
       "<Figure size 1080x864 with 16 Axes>"
      ]
     },
     "metadata": {
      "needs_background": "light"
     },
     "output_type": "display_data"
    }
   ],
   "source": [
    "df.plot(kind='density', subplots=True, layout=(4,4), sharex=False, legend=True, fontsize=1, figsize=(15,12))\n",
    "plt.show()"
   ]
  },
  {
   "cell_type": "code",
   "execution_count": 14,
   "metadata": {},
   "outputs": [
    {
     "data": {
      "image/png": "[encoded data removed]",
      "text/plain": [
       "<Figure size 1080x720 with 16 Axes>"
      ]
     },
     "metadata": {
      "needs_background": "light"
     },
     "output_type": "display_data"
    }
   ],
   "source": [
    "df.plot(kind='box', subplots=True, layout=(4,4), sharex=False, sharey=False,\n",
    "        fontsize=10, figsize = (15, 10))\n",
    "plt.show()"
   ]
  },
  {
   "cell_type": "code",
   "execution_count": 15,
   "metadata": {},
   "outputs": [
    {
     "data": {
      "text/plain": [
       "Age            0.809877\n",
       "Family_size    0.401376\n",
       "Pin code       0.574913\n",
       "dtype: float64"
      ]
     },
     "execution_count": 15,
     "metadata": {},
     "output_type": "execute_result"
    }
   ],
   "source": [
    "df.skew()"
   ]
  },
  {
   "cell_type": "code",
   "execution_count": 10,
   "metadata": {},
   "outputs": [],
   "source": [
    "df.rename(columns = {'Pin code':'Pin_code','Delay_in_assigning_delivery_ person':'Delay_in_assigning_delivery_person','Order Time':'Order_Time','Maximum wait time':'Maximum_wait_time','Freshness ':'Freshness','Good_Taste ':'Good_Taste'}, inplace = True)"
   ]
  },
  {
   "cell_type": "code",
   "execution_count": 11,
   "metadata": {},
   "outputs": [
    {
     "name": "stdout",
     "output_type": "stream",
     "text": [
      "<class 'pandas.core.frame.DataFrame'>\n",
      "RangeIndex: 388 entries, 0 to 387\n",
      "Data columns (total 36 columns):\n",
      " #   Column                              Non-Null Count  Dtype \n",
      "---  ------                              --------------  ----- \n",
      " 0   Age                                 388 non-null    int64 \n",
      " 1   Gender                              388 non-null    object\n",
      " 2   Marital_Status                      388 non-null    object\n",
      " 3   Occupation                          388 non-null    object\n",
      " 4   Monthly_Income                      388 non-null    object\n",
      " 5   Family_size                         388 non-null    int64 \n",
      " 6   Pin_code                            388 non-null    int64 \n",
      " 7   Medium                              388 non-null    object\n",
      " 8   Meal                                388 non-null    object\n",
      " 9   Perference                          388 non-null    object\n",
      " 10  Ease_and_convenient                 388 non-null    object\n",
      " 11  Time_saving                         388 non-null    object\n",
      " 12  Easy_Payment_option                 388 non-null    object\n",
      " 13  More_Offers_and_Discount            388 non-null    object\n",
      " 14  Good_Food_quality                   388 non-null    object\n",
      " 15  Good_Tracking_system                388 non-null    object\n",
      " 16  Late_Delivery                       388 non-null    object\n",
      " 17  Poor_Hygiene                        388 non-null    object\n",
      " 18  Bad_past_experience                 388 non-null    object\n",
      " 19  Long_delivery_time                  388 non-null    object\n",
      " 20  Delay_in_assigning_delivery_person  388 non-null    object\n",
      " 21  Delay_in_picking_up_food            388 non-null    object\n",
      " 22  Wrong_order_delivered               388 non-null    object\n",
      " 23  Missing_item                        388 non-null    object\n",
      " 24  Order_Time                          388 non-null    object\n",
      " 25  Maximum_wait_time                   388 non-null    object\n",
      " 26  Residence_in_busy_location          388 non-null    object\n",
      " 27  Influence_of_rating                 388 non-null    object\n",
      " 28  Less_Delivery_time                  388 non-null    object\n",
      " 29  High_Quality_of_package             388 non-null    object\n",
      " 30  Politeness                          388 non-null    object\n",
      " 31  Freshness                           388 non-null    object\n",
      " 32  Temperature                         388 non-null    object\n",
      " 33  Good_Taste                          388 non-null    object\n",
      " 34  Good_Quantity                       388 non-null    object\n",
      " 35  Output                              388 non-null    object\n",
      "dtypes: int64(3), object(33)\n",
      "memory usage: 109.2+ KB\n"
     ]
    }
   ],
   "source": [
    "df.info()"
   ]
  },
  {
   "cell_type": "code",
   "execution_count": 12,
   "metadata": {},
   "outputs": [
    {
     "data": {
      "text/plain": [
       "Index(['Gender', 'Marital_Status', 'Occupation', 'Monthly_Income', 'Medium',\n",
       "       'Meal', 'Perference', 'Ease_and_convenient', 'Time_saving',\n",
       "       'Easy_Payment_option', 'More_Offers_and_Discount', 'Good_Food_quality',\n",
       "       'Good_Tracking_system', 'Late_Delivery', 'Poor_Hygiene',\n",
       "       'Bad_past_experience', 'Long_delivery_time',\n",
       "       'Delay_in_assigning_delivery_person', 'Delay_in_picking_up_food',\n",
       "       'Wrong_order_delivered', 'Missing_item', 'Order_Time',\n",
       "       'Maximum_wait_time', 'Residence_in_busy_location',\n",
       "       'Influence_of_rating', 'Less_Delivery_time', 'High_Quality_of_package',\n",
       "       'Politeness', 'Freshness', 'Temperature', 'Good_Taste', 'Good_Quantity',\n",
       "       'Output'],\n",
       "      dtype='object')"
      ]
     },
     "execution_count": 12,
     "metadata": {},
     "output_type": "execute_result"
    }
   ],
   "source": [
    "col=df.columns.drop(['Age','Family_size','Pin_code'])\n",
    "col"
   ]
  },
  {
   "cell_type": "code",
   "execution_count": 13,
   "metadata": {},
   "outputs": [],
   "source": [
    "df[col] = df[col].astype('category')"
   ]
  },
  {
   "cell_type": "code",
   "execution_count": 14,
   "metadata": {},
   "outputs": [
    {
     "name": "stdout",
     "output_type": "stream",
     "text": [
      "<class 'pandas.core.frame.DataFrame'>\n",
      "RangeIndex: 388 entries, 0 to 387\n",
      "Data columns (total 36 columns):\n",
      " #   Column                              Non-Null Count  Dtype   \n",
      "---  ------                              --------------  -----   \n",
      " 0   Age                                 388 non-null    int64   \n",
      " 1   Gender                              388 non-null    category\n",
      " 2   Marital_Status                      388 non-null    category\n",
      " 3   Occupation                          388 non-null    category\n",
      " 4   Monthly_Income                      388 non-null    category\n",
      " 5   Family_size                         388 non-null    int64   \n",
      " 6   Pin_code                            388 non-null    int64   \n",
      " 7   Medium                              388 non-null    category\n",
      " 8   Meal                                388 non-null    category\n",
      " 9   Perference                          388 non-null    category\n",
      " 10  Ease_and_convenient                 388 non-null    category\n",
      " 11  Time_saving                         388 non-null    category\n",
      " 12  Easy_Payment_option                 388 non-null    category\n",
      " 13  More_Offers_and_Discount            388 non-null    category\n",
      " 14  Good_Food_quality                   388 non-null    category\n",
      " 15  Good_Tracking_system                388 non-null    category\n",
      " 16  Late_Delivery                       388 non-null    category\n",
      " 17  Poor_Hygiene                        388 non-null    category\n",
      " 18  Bad_past_experience                 388 non-null    category\n",
      " 19  Long_delivery_time                  388 non-null    category\n",
      " 20  Delay_in_assigning_delivery_person  388 non-null    category\n",
      " 21  Delay_in_picking_up_food            388 non-null    category\n",
      " 22  Wrong_order_delivered               388 non-null    category\n",
      " 23  Missing_item                        388 non-null    category\n",
      " 24  Order_Time                          388 non-null    category\n",
      " 25  Maximum_wait_time                   388 non-null    category\n",
      " 26  Residence_in_busy_location          388 non-null    category\n",
      " 27  Influence_of_rating                 388 non-null    category\n",
      " 28  Less_Delivery_time                  388 non-null    category\n",
      " 29  High_Quality_of_package             388 non-null    category\n",
      " 30  Politeness                          388 non-null    category\n",
      " 31  Freshness                           388 non-null    category\n",
      " 32  Temperature                         388 non-null    category\n",
      " 33  Good_Taste                          388 non-null    category\n",
      " 34  Good_Quantity                       388 non-null    category\n",
      " 35  Output                              388 non-null    category\n",
      "dtypes: category(33), int64(3)\n",
      "memory usage: 28.1 KB\n"
     ]
    }
   ],
   "source": [
    "df.info()"
   ]
  },
  {
   "cell_type": "code",
   "execution_count": 15,
   "metadata": {},
   "outputs": [],
   "source": [
    "df1=df"
   ]
  },
  {
   "cell_type": "code",
   "execution_count": 16,
   "metadata": {},
   "outputs": [
    {
     "data": {
      "text/plain": [
       "Yes    301\n",
       "No      87\n",
       "Name: Output, dtype: int64"
      ]
     },
     "execution_count": 16,
     "metadata": {},
     "output_type": "execute_result"
    }
   ],
   "source": [
    "df1.Output.value_counts()"
   ]
  },
  {
   "cell_type": "code",
   "execution_count": 23,
   "metadata": {},
   "outputs": [
    {
     "data": {
      "image/png": "[encoded data removed]",
      "text/plain": [
       "<Figure size 432x288 with 1 Axes>"
      ]
     },
     "metadata": {
      "needs_background": "light"
     },
     "output_type": "display_data"
    }
   ],
   "source": [
    "sns.countplot(x = 'Output', data = df1)\n",
    "plt.show()"
   ]
  },
  {
   "cell_type": "code",
   "execution_count": 17,
   "metadata": {},
   "outputs": [
    {
     "name": "stdout",
     "output_type": "stream",
     "text": [
      "percentage of churn customer is 77.57731958762886\n",
      "percentage of not churn customer 22.422680412371136\n"
     ]
    }
   ],
   "source": [
    "count_churn = len(df1[df1['Output']=='Yes'])\n",
    "count_not_churn = len(df1[df1['Output']=='No'])\n",
    "pct_of_churn = count_churn / (count_not_churn+count_churn)\n",
    "print(\"percentage of churn customer is\", pct_of_churn*100)\n",
    "pct_of_not_churn = count_not_churn / (count_not_churn+count_churn)\n",
    "print(\"percentage of not churn customer\", pct_of_not_churn*100)"
   ]
  },
  {
   "cell_type": "markdown",
   "metadata": {},
   "source": [
    "### our class is imbalnced we can see churn ratio is 78:22, we will use SMOTE to handle imbalanced data."
   ]
  },
  {
   "cell_type": "raw",
   "metadata": {},
   "source": []
  },
  {
   "cell_type": "code",
   "execution_count": 25,
   "metadata": {},
   "outputs": [
    {
     "data": {
      "image/png": "[encoded data removed]",
      "text/plain": [
       "<Figure size 432x288 with 1 Axes>"
      ]
     },
     "metadata": {
      "needs_background": "light"
     },
     "output_type": "display_data"
    }
   ],
   "source": [
    "sns.countplot(x = 'Output', hue = 'Gender', data = df1)\n",
    "plt.show()"
   ]
  },
  {
   "cell_type": "code",
   "execution_count": 26,
   "metadata": {},
   "outputs": [
    {
     "data": {
      "image/png": "[encoded data removed]",
      "text/plain": [
       "<Figure size 432x288 with 1 Axes>"
      ]
     },
     "metadata": {
      "needs_background": "light"
     },
     "output_type": "display_data"
    }
   ],
   "source": [
    "sns.countplot(x = 'Output', hue = 'Marital_Status', data = df1)\n",
    "plt.show()"
   ]
  },
  {
   "cell_type": "code",
   "execution_count": 27,
   "metadata": {},
   "outputs": [
    {
     "data": {
      "image/png": "[encoded data removed]",
      "text/plain": [
       "<Figure size 432x288 with 1 Axes>"
      ]
     },
     "metadata": {
      "needs_background": "light"
     },
     "output_type": "display_data"
    }
   ],
   "source": [
    "sns.countplot(x = 'Output', hue = 'Occupation', data = df1)\n",
    "plt.show()"
   ]
  },
  {
   "cell_type": "code",
   "execution_count": 28,
   "metadata": {},
   "outputs": [
    {
     "data": {
      "image/png": "[encoded data removed]",
      "text/plain": [
       "<Figure size 432x288 with 1 Axes>"
      ]
     },
     "metadata": {
      "needs_background": "light"
     },
     "output_type": "display_data"
    }
   ],
   "source": [
    "sns.countplot(x = 'Output', hue = 'Monthly_Income', data = df1)\n",
    "plt.show()"
   ]
  },
  {
   "cell_type": "code",
   "execution_count": 29,
   "metadata": {},
   "outputs": [
    {
     "data": {
      "image/png": "[encoded data removed]",
      "text/plain": [
       "<Figure size 432x288 with 1 Axes>"
      ]
     },
     "metadata": {
      "needs_background": "light"
     },
     "output_type": "display_data"
    }
   ],
   "source": [
    "sns.countplot(x = 'Output', hue = 'Medium', data = df1)\n",
    "plt.show()"
   ]
  },
  {
   "cell_type": "code",
   "execution_count": 30,
   "metadata": {},
   "outputs": [
    {
     "data": {
      "image/png": "[encoded data removed]",
      "text/plain": [
       "<Figure size 432x288 with 1 Axes>"
      ]
     },
     "metadata": {
      "needs_background": "light"
     },
     "output_type": "display_data"
    }
   ],
   "source": [
    "sns.countplot(x = 'Output', hue = 'Meal', data = df1)\n",
    "plt.show()"
   ]
  },
  {
   "cell_type": "code",
   "execution_count": 31,
   "metadata": {},
   "outputs": [
    {
     "data": {
      "image/png": "[encoded data removed]",
      "text/plain": [
       "<Figure size 432x288 with 1 Axes>"
      ]
     },
     "metadata": {
      "needs_background": "light"
     },
     "output_type": "display_data"
    }
   ],
   "source": [
    "sns.countplot(x = 'Output', hue = 'Perference', data = df1)\n",
    "plt.show()"
   ]
  },
  {
   "cell_type": "code",
   "execution_count": 32,
   "metadata": {},
   "outputs": [
    {
     "data": {
      "image/png": "[encoded data removed]",
      "text/plain": [
       "<Figure size 432x288 with 1 Axes>"
      ]
     },
     "metadata": {
      "needs_background": "light"
     },
     "output_type": "display_data"
    }
   ],
   "source": [
    "sns.countplot(x = 'Output', hue = 'Ease_and_convenient', data = df1)\n",
    "plt.show()"
   ]
  },
  {
   "cell_type": "code",
   "execution_count": 33,
   "metadata": {},
   "outputs": [
    {
     "data": {
      "image/png": "[encoded data removed]",
      "text/plain": [
       "<Figure size 432x288 with 1 Axes>"
      ]
     },
     "metadata": {
      "needs_background": "light"
     },
     "output_type": "display_data"
    }
   ],
   "source": [
    "sns.countplot(x = 'Output', hue = 'Time_saving', data = df1)\n",
    "plt.show()"
   ]
  },
  {
   "cell_type": "code",
   "execution_count": 34,
   "metadata": {},
   "outputs": [
    {
     "data": {
      "image/png": "[encoded data removed]",
      "text/plain": [
       "<Figure size 432x288 with 1 Axes>"
      ]
     },
     "metadata": {
      "needs_background": "light"
     },
     "output_type": "display_data"
    }
   ],
   "source": [
    "sns.countplot(x = 'Output', hue = 'Easy_Payment_option', data = df1)\n",
    "plt.show()"
   ]
  },
  {
   "cell_type": "code",
   "execution_count": 35,
   "metadata": {},
   "outputs": [
    {
     "data": {
      "image/png": "[encoded data removed]",
      "text/plain": [
       "<Figure size 432x288 with 1 Axes>"
      ]
     },
     "metadata": {
      "needs_background": "light"
     },
     "output_type": "display_data"
    }
   ],
   "source": [
    "sns.countplot(x = 'Output', hue = 'More_Offers_and_Discount', data = df1)\n",
    "plt.show()"
   ]
  },
  {
   "cell_type": "code",
   "execution_count": 36,
   "metadata": {},
   "outputs": [
    {
     "data": {
      "image/png": "[encoded data removed]",
      "text/plain": [
       "<Figure size 432x288 with 1 Axes>"
      ]
     },
     "metadata": {
      "needs_background": "light"
     },
     "output_type": "display_data"
    }
   ],
   "source": [
    "sns.countplot(x = 'Output', hue = 'Good_Food_quality', data = df1)\n",
    "plt.show()"
   ]
  },
  {
   "cell_type": "code",
   "execution_count": 37,
   "metadata": {},
   "outputs": [
    {
     "data": {
      "image/png": "[encoded data removed]",
      "text/plain": [
       "<Figure size 432x288 with 1 Axes>"
      ]
     },
     "metadata": {
      "needs_background": "light"
     },
     "output_type": "display_data"
    }
   ],
   "source": [
    "sns.countplot(x = 'Output', hue = 'Good_Tracking_system', data = df1)\n",
    "plt.show()"
   ]
  },
  {
   "cell_type": "code",
   "execution_count": 38,
   "metadata": {},
   "outputs": [
    {
     "data": {
      "image/png": "[encoded data removed]",
      "text/plain": [
       "<Figure size 432x288 with 1 Axes>"
      ]
     },
     "metadata": {
      "needs_background": "light"
     },
     "output_type": "display_data"
    }
   ],
   "source": [
    "sns.countplot(x = 'Output', hue = 'Late_Delivery', data = df1)\n",
    "plt.show()"
   ]
  },
  {
   "cell_type": "code",
   "execution_count": 39,
   "metadata": {},
   "outputs": [
    {
     "data": {
      "image/png": "[encoded data removed]",
      "text/plain": [
       "<Figure size 432x288 with 1 Axes>"
      ]
     },
     "metadata": {
      "needs_background": "light"
     },
     "output_type": "display_data"
    }
   ],
   "source": [
    "sns.countplot(x = 'Output', hue = 'Poor_Hygiene', data = df1)\n",
    "plt.show()"
   ]
  },
  {
   "cell_type": "code",
   "execution_count": 40,
   "metadata": {},
   "outputs": [
    {
     "data": {
      "image/png": "[encoded data removed]",
      "text/plain": [
       "<Figure size 432x288 with 1 Axes>"
      ]
     },
     "metadata": {
      "needs_background": "light"
     },
     "output_type": "display_data"
    }
   ],
   "source": [
    "sns.countplot(x = 'Output', hue = 'Bad_past_experience', data = df1)\n",
    "plt.show()"
   ]
  },
  {
   "cell_type": "code",
   "execution_count": 41,
   "metadata": {},
   "outputs": [
    {
     "data": {
      "image/png": "[encoded data removed]",
      "text/plain": [
       "<Figure size 432x288 with 1 Axes>"
      ]
     },
     "metadata": {
      "needs_background": "light"
     },
     "output_type": "display_data"
    }
   ],
   "source": [
    "sns.countplot(x = 'Output', hue = 'Long_delivery_time', data = df1)\n",
    "plt.show()"
   ]
  },
  {
   "cell_type": "code",
   "execution_count": 42,
   "metadata": {},
   "outputs": [
    {
     "data": {
      "image/png": "[encoded data removed]",
      "text/plain": [
       "<Figure size 432x288 with 1 Axes>"
      ]
     },
     "metadata": {
      "needs_background": "light"
     },
     "output_type": "display_data"
    }
   ],
   "source": [
    "sns.countplot(x = 'Output', hue = 'Delay_in_assigning_delivery_person', data = df1)\n",
    "plt.show()"
   ]
  },
  {
   "cell_type": "code",
   "execution_count": 43,
   "metadata": {},
   "outputs": [
    {
     "data": {
      "image/png": "[encoded data removed]",
      "text/plain": [
       "<Figure size 432x288 with 1 Axes>"
      ]
     },
     "metadata": {
      "needs_background": "light"
     },
     "output_type": "display_data"
    }
   ],
   "source": [
    "sns.countplot(x = 'Output', hue = 'Delay_in_picking_up_food', data = df1)\n",
    "plt.show()"
   ]
  },
  {
   "cell_type": "code",
   "execution_count": 44,
   "metadata": {},
   "outputs": [
    {
     "data": {
      "image/png": "[encoded data removed]",
      "text/plain": [
       "<Figure size 432x288 with 1 Axes>"
      ]
     },
     "metadata": {
      "needs_background": "light"
     },
     "output_type": "display_data"
    }
   ],
   "source": [
    "sns.countplot(x = 'Output', hue = 'Wrong_order_delivered', data = df1)\n",
    "plt.show()"
   ]
  },
  {
   "cell_type": "code",
   "execution_count": 45,
   "metadata": {},
   "outputs": [
    {
     "data": {
      "image/png": "[encoded data removed]",
      "text/plain": [
       "<Figure size 432x288 with 1 Axes>"
      ]
     },
     "metadata": {
      "needs_background": "light"
     },
     "output_type": "display_data"
    }
   ],
   "source": [
    "sns.countplot(x = 'Output', hue = 'Missing_item', data = df1)\n",
    "plt.show()"
   ]
  },
  {
   "cell_type": "code",
   "execution_count": 46,
   "metadata": {},
   "outputs": [
    {
     "data": {
      "image/png": "[encoded data removed]",
      "text/plain": [
       "<Figure size 432x288 with 1 Axes>"
      ]
     },
     "metadata": {
      "needs_background": "light"
     },
     "output_type": "display_data"
    }
   ],
   "source": [
    "sns.countplot(x = 'Output', hue = 'Order_Time', data = df1)\n",
    "plt.show()"
   ]
  },
  {
   "cell_type": "code",
   "execution_count": 47,
   "metadata": {},
   "outputs": [
    {
     "data": {
      "image/png": "[encoded data removed]",
      "text/plain": [
       "<Figure size 432x288 with 1 Axes>"
      ]
     },
     "metadata": {
      "needs_background": "light"
     },
     "output_type": "display_data"
    }
   ],
   "source": [
    "sns.countplot(x = 'Output', hue = 'Maximum_wait_time', data = df1)\n",
    "plt.show()"
   ]
  },
  {
   "cell_type": "code",
   "execution_count": 48,
   "metadata": {},
   "outputs": [
    {
     "data": {
      "image/png": "[encoded data removed]",
      "text/plain": [
       "<Figure size 432x288 with 1 Axes>"
      ]
     },
     "metadata": {
      "needs_background": "light"
     },
     "output_type": "display_data"
    }
   ],
   "source": [
    "sns.countplot(x = 'Output', hue = 'Residence_in_busy_location', data = df1)\n",
    "plt.show()"
   ]
  },
  {
   "cell_type": "code",
   "execution_count": 49,
   "metadata": {},
   "outputs": [
    {
     "data": {
      "image/png": "[encoded data removed]",
      "text/plain": [
       "<Figure size 432x288 with 1 Axes>"
      ]
     },
     "metadata": {
      "needs_background": "light"
     },
     "output_type": "display_data"
    }
   ],
   "source": [
    "sns.countplot(x = 'Output', hue = 'Influence_of_rating', data = df1)\n",
    "plt.show()"
   ]
  },
  {
   "cell_type": "code",
   "execution_count": 50,
   "metadata": {},
   "outputs": [
    {
     "data": {
      "image/png": "[encoded data removed]",
      "text/plain": [
       "<Figure size 432x288 with 1 Axes>"
      ]
     },
     "metadata": {
      "needs_background": "light"
     },
     "output_type": "display_data"
    }
   ],
   "source": [
    "sns.countplot(x = 'Output', hue = 'Less_Delivery_time', data = df1)\n",
    "plt.show()"
   ]
  },
  {
   "cell_type": "code",
   "execution_count": 51,
   "metadata": {},
   "outputs": [
    {
     "data": {
      "image/png": "[encoded data removed]",
      "text/plain": [
       "<Figure size 432x288 with 1 Axes>"
      ]
     },
     "metadata": {
      "needs_background": "light"
     },
     "output_type": "display_data"
    }
   ],
   "source": [
    "sns.countplot(x = 'Output', hue = 'High_Quality_of_package', data = df1)\n",
    "plt.show()"
   ]
  },
  {
   "cell_type": "code",
   "execution_count": 52,
   "metadata": {},
   "outputs": [
    {
     "data": {
      "image/png": "[encoded data removed]",
      "text/plain": [
       "<Figure size 432x288 with 1 Axes>"
      ]
     },
     "metadata": {
      "needs_background": "light"
     },
     "output_type": "display_data"
    }
   ],
   "source": [
    "sns.countplot(x = 'Output', hue = 'Politeness', data = df1)\n",
    "plt.show()"
   ]
  },
  {
   "cell_type": "code",
   "execution_count": 53,
   "metadata": {},
   "outputs": [
    {
     "data": {
      "image/png": "[encoded data removed]",
      "text/plain": [
       "<Figure size 432x288 with 1 Axes>"
      ]
     },
     "metadata": {
      "needs_background": "light"
     },
     "output_type": "display_data"
    }
   ],
   "source": [
    "sns.countplot(x = 'Output', hue = 'Freshness', data = df1)\n",
    "plt.show()"
   ]
  },
  {
   "cell_type": "code",
   "execution_count": 54,
   "metadata": {},
   "outputs": [
    {
     "data": {
      "image/png": "[encoded data removed]",
      "text/plain": [
       "<Figure size 432x288 with 1 Axes>"
      ]
     },
     "metadata": {
      "needs_background": "light"
     },
     "output_type": "display_data"
    }
   ],
   "source": [
    "sns.countplot(x = 'Output', hue = 'Temperature', data = df1)\n",
    "plt.show()"
   ]
  },
  {
   "cell_type": "code",
   "execution_count": 55,
   "metadata": {},
   "outputs": [
    {
     "data": {
      "image/png": "[encoded data removed]",
      "text/plain": [
       "<Figure size 432x288 with 1 Axes>"
      ]
     },
     "metadata": {
      "needs_background": "light"
     },
     "output_type": "display_data"
    }
   ],
   "source": [
    "sns.countplot(x = 'Output', hue = 'Good_Taste', data = df1)\n",
    "plt.show()"
   ]
  },
  {
   "cell_type": "code",
   "execution_count": 56,
   "metadata": {},
   "outputs": [
    {
     "data": {
      "image/png": "[encoded data removed]",
      "text/plain": [
       "<Figure size 432x288 with 1 Axes>"
      ]
     },
     "metadata": {
      "needs_background": "light"
     },
     "output_type": "display_data"
    }
   ],
   "source": [
    "sns.countplot(x = 'Output', hue = 'Good_Quantity', data = df1)\n",
    "plt.show()"
   ]
  },
  {
   "cell_type": "markdown",
   "metadata": {},
   "source": [
    "### all categorical features are important for prediction, considering all features soon above"
   ]
  },
  {
   "cell_type": "code",
   "execution_count": null,
   "metadata": {},
   "outputs": [],
   "source": []
  },
  {
   "cell_type": "code",
   "execution_count": 57,
   "metadata": {},
   "outputs": [
    {
     "data": {
      "image/png": "[encoded data removed]",
      "text/plain": [
       "<Figure size 432x288 with 1 Axes>"
      ]
     },
     "metadata": {
      "needs_background": "light"
     },
     "output_type": "display_data"
    }
   ],
   "source": [
    "sns.boxplot( y = df1.Age,  x = df1.Output)\n",
    "plt.show()"
   ]
  },
  {
   "cell_type": "code",
   "execution_count": 58,
   "metadata": {},
   "outputs": [
    {
     "data": {
      "image/png": "[encoded data removed]",
      "text/plain": [
       "<Figure size 432x288 with 1 Axes>"
      ]
     },
     "metadata": {
      "needs_background": "light"
     },
     "output_type": "display_data"
    }
   ],
   "source": [
    "sns.boxplot( y = df1.Family_size,  x = df1.Output)\n",
    "plt.show()"
   ]
  },
  {
   "cell_type": "code",
   "execution_count": 59,
   "metadata": {},
   "outputs": [
    {
     "data": {
      "image/png": "[encoded data removed]",
      "text/plain": [
       "<Figure size 432x288 with 1 Axes>"
      ]
     },
     "metadata": {
      "needs_background": "light"
     },
     "output_type": "display_data"
    }
   ],
   "source": [
    "sns.boxplot( y = df1.Pin_code,  x = df1.Output)\n",
    "plt.show()"
   ]
  },
  {
   "cell_type": "markdown",
   "metadata": {},
   "source": [
    "### here Age is good predictor for output.\n",
    "### we can drop Family_Size and Pin_code as no much changes seen for predicitng output"
   ]
  },
  {
   "cell_type": "code",
   "execution_count": null,
   "metadata": {},
   "outputs": [],
   "source": []
  },
  {
   "cell_type": "code",
   "execution_count": 18,
   "metadata": {},
   "outputs": [
    {
     "name": "stdout",
     "output_type": "stream",
     "text": [
      "<class 'pandas.core.frame.DataFrame'>\n",
      "RangeIndex: 388 entries, 0 to 387\n",
      "Data columns (total 34 columns):\n",
      " #   Column                              Non-Null Count  Dtype   \n",
      "---  ------                              --------------  -----   \n",
      " 0   Age                                 388 non-null    int64   \n",
      " 1   Gender                              388 non-null    category\n",
      " 2   Marital_Status                      388 non-null    category\n",
      " 3   Occupation                          388 non-null    category\n",
      " 4   Monthly_Income                      388 non-null    category\n",
      " 5   Medium                              388 non-null    category\n",
      " 6   Meal                                388 non-null    category\n",
      " 7   Perference                          388 non-null    category\n",
      " 8   Ease_and_convenient                 388 non-null    category\n",
      " 9   Time_saving                         388 non-null    category\n",
      " 10  Easy_Payment_option                 388 non-null    category\n",
      " 11  More_Offers_and_Discount            388 non-null    category\n",
      " 12  Good_Food_quality                   388 non-null    category\n",
      " 13  Good_Tracking_system                388 non-null    category\n",
      " 14  Late_Delivery                       388 non-null    category\n",
      " 15  Poor_Hygiene                        388 non-null    category\n",
      " 16  Bad_past_experience                 388 non-null    category\n",
      " 17  Long_delivery_time                  388 non-null    category\n",
      " 18  Delay_in_assigning_delivery_person  388 non-null    category\n",
      " 19  Delay_in_picking_up_food            388 non-null    category\n",
      " 20  Wrong_order_delivered               388 non-null    category\n",
      " 21  Missing_item                        388 non-null    category\n",
      " 22  Order_Time                          388 non-null    category\n",
      " 23  Maximum_wait_time                   388 non-null    category\n",
      " 24  Residence_in_busy_location          388 non-null    category\n",
      " 25  Influence_of_rating                 388 non-null    category\n",
      " 26  Less_Delivery_time                  388 non-null    category\n",
      " 27  High_Quality_of_package             388 non-null    category\n",
      " 28  Politeness                          388 non-null    category\n",
      " 29  Freshness                           388 non-null    category\n",
      " 30  Temperature                         388 non-null    category\n",
      " 31  Good_Taste                          388 non-null    category\n",
      " 32  Good_Quantity                       388 non-null    category\n",
      " 33  Output                              388 non-null    category\n",
      "dtypes: category(33), int64(1)\n",
      "memory usage: 22.1 KB\n"
     ]
    }
   ],
   "source": [
    "df2 = df1.drop(['Family_size', 'Pin_code'], axis = 1)\n",
    "df2.info()"
   ]
  },
  {
   "cell_type": "code",
   "execution_count": 19,
   "metadata": {},
   "outputs": [],
   "source": [
    "df3=df2"
   ]
  },
  {
   "cell_type": "code",
   "execution_count": 20,
   "metadata": {},
   "outputs": [
    {
     "data": {
      "text/plain": [
       "Index(['Age', 'Gender', 'Marital_Status', 'Occupation', 'Monthly_Income',\n",
       "       'Medium', 'Meal', 'Perference', 'Ease_and_convenient', 'Time_saving',\n",
       "       'Easy_Payment_option', 'More_Offers_and_Discount', 'Good_Food_quality',\n",
       "       'Good_Tracking_system', 'Late_Delivery', 'Poor_Hygiene',\n",
       "       'Bad_past_experience', 'Long_delivery_time',\n",
       "       'Delay_in_assigning_delivery_person', 'Delay_in_picking_up_food',\n",
       "       'Wrong_order_delivered', 'Missing_item', 'Order_Time',\n",
       "       'Maximum_wait_time', 'Residence_in_busy_location',\n",
       "       'Influence_of_rating', 'Less_Delivery_time', 'High_Quality_of_package',\n",
       "       'Politeness', 'Freshness', 'Temperature', 'Good_Taste', 'Good_Quantity',\n",
       "       'Output'],\n",
       "      dtype='object')"
      ]
     },
     "execution_count": 20,
     "metadata": {},
     "output_type": "execute_result"
    }
   ],
   "source": [
    "df3.columns"
   ]
  },
  {
   "cell_type": "code",
   "execution_count": 21,
   "metadata": {},
   "outputs": [],
   "source": [
    "cat_vars=['Gender', 'Marital_Status', 'Occupation', 'Monthly_Income',\n",
    "       'Medium', 'Meal', 'Perference', 'Ease_and_convenient', 'Time_saving',\n",
    "       'Easy_Payment_option', 'More_Offers_and_Discount', 'Good_Food_quality',\n",
    "       'Good_Tracking_system', 'Late_Delivery', 'Poor_Hygiene',\n",
    "       'Bad_past_experience', 'Long_delivery_time',\n",
    "       'Delay_in_assigning_delivery_person', 'Delay_in_picking_up_food',\n",
    "       'Wrong_order_delivered', 'Missing_item', 'Order_Time',\n",
    "       'Maximum_wait_time', 'Residence_in_busy_location',\n",
    "       'Influence_of_rating', 'Less_Delivery_time', 'High_Quality_of_package',\n",
    "       'Politeness', 'Freshness', 'Temperature', 'Good_Taste', 'Good_Quantity',]\n",
    "for var in cat_vars:\n",
    "    cat_list='var'+'_'+var\n",
    "    cat_list = pd.get_dummies(df3[var], prefix=var,drop_first=True)\n",
    "    data1=df3.join(cat_list)\n",
    "    df3=data1"
   ]
  },
  {
   "cell_type": "code",
   "execution_count": 22,
   "metadata": {},
   "outputs": [
    {
     "data": {
      "text/html": [
       "<div>\n",
       "<style scoped>\n",
       "    .dataframe tbody tr th:only-of-type {\n",
       "        vertical-align: middle;\n",
       "    }\n",
       "\n",
       "    .dataframe tbody tr th {\n",
       "        vertical-align: top;\n",
       "    }\n",
       "\n",
       "    .dataframe thead th {\n",
       "        text-align: right;\n",
       "    }\n",
       "</style>\n",
       "<table border=\"1\" class=\"dataframe\">\n",
       "  <thead>\n",
       "    <tr style=\"text-align: right;\">\n",
       "      <th></th>\n",
       "      <th>Age</th>\n",
       "      <th>Gender</th>\n",
       "      <th>Marital_Status</th>\n",
       "      <th>Occupation</th>\n",
       "      <th>Monthly_Income</th>\n",
       "      <th>Medium</th>\n",
       "      <th>Meal</th>\n",
       "      <th>Perference</th>\n",
       "      <th>Ease_and_convenient</th>\n",
       "      <th>Time_saving</th>\n",
       "      <th>...</th>\n",
       "      <th>Temperature_Unimportant</th>\n",
       "      <th>Temperature_Very Important</th>\n",
       "      <th>Good_Taste_Moderately Important</th>\n",
       "      <th>Good_Taste_Slightly Important</th>\n",
       "      <th>Good_Taste_Unimportant</th>\n",
       "      <th>Good_Taste_Very Important</th>\n",
       "      <th>Good_Quantity_Moderately Important</th>\n",
       "      <th>Good_Quantity_Slightly Important</th>\n",
       "      <th>Good_Quantity_Unimportant</th>\n",
       "      <th>Good_Quantity_Very Important</th>\n",
       "    </tr>\n",
       "  </thead>\n",
       "  <tbody>\n",
       "    <tr>\n",
       "      <th>0</th>\n",
       "      <td>20</td>\n",
       "      <td>Female</td>\n",
       "      <td>Single</td>\n",
       "      <td>Student</td>\n",
       "      <td>No Income</td>\n",
       "      <td>Food delivery apps</td>\n",
       "      <td>Breakfast</td>\n",
       "      <td>Non Veg foods (Lunch / Dinner)</td>\n",
       "      <td>Neutral</td>\n",
       "      <td>Neutral</td>\n",
       "      <td>...</td>\n",
       "      <td>0</td>\n",
       "      <td>0</td>\n",
       "      <td>1</td>\n",
       "      <td>0</td>\n",
       "      <td>0</td>\n",
       "      <td>0</td>\n",
       "      <td>1</td>\n",
       "      <td>0</td>\n",
       "      <td>0</td>\n",
       "      <td>0</td>\n",
       "    </tr>\n",
       "    <tr>\n",
       "      <th>1</th>\n",
       "      <td>24</td>\n",
       "      <td>Female</td>\n",
       "      <td>Single</td>\n",
       "      <td>Student</td>\n",
       "      <td>Below Rs.10000</td>\n",
       "      <td>Food delivery apps</td>\n",
       "      <td>Snacks</td>\n",
       "      <td>Non Veg foods (Lunch / Dinner)</td>\n",
       "      <td>Strongly agree</td>\n",
       "      <td>Strongly agree</td>\n",
       "      <td>...</td>\n",
       "      <td>0</td>\n",
       "      <td>1</td>\n",
       "      <td>0</td>\n",
       "      <td>0</td>\n",
       "      <td>0</td>\n",
       "      <td>1</td>\n",
       "      <td>0</td>\n",
       "      <td>0</td>\n",
       "      <td>0</td>\n",
       "      <td>1</td>\n",
       "    </tr>\n",
       "    <tr>\n",
       "      <th>2</th>\n",
       "      <td>22</td>\n",
       "      <td>Male</td>\n",
       "      <td>Single</td>\n",
       "      <td>Student</td>\n",
       "      <td>Below Rs.10000</td>\n",
       "      <td>Food delivery apps</td>\n",
       "      <td>Lunch</td>\n",
       "      <td>Non Veg foods (Lunch / Dinner)</td>\n",
       "      <td>Strongly agree</td>\n",
       "      <td>Strongly agree</td>\n",
       "      <td>...</td>\n",
       "      <td>0</td>\n",
       "      <td>0</td>\n",
       "      <td>0</td>\n",
       "      <td>0</td>\n",
       "      <td>0</td>\n",
       "      <td>1</td>\n",
       "      <td>1</td>\n",
       "      <td>0</td>\n",
       "      <td>0</td>\n",
       "      <td>0</td>\n",
       "    </tr>\n",
       "    <tr>\n",
       "      <th>3</th>\n",
       "      <td>22</td>\n",
       "      <td>Female</td>\n",
       "      <td>Single</td>\n",
       "      <td>Student</td>\n",
       "      <td>No Income</td>\n",
       "      <td>Food delivery apps</td>\n",
       "      <td>Snacks</td>\n",
       "      <td>Veg foods (Breakfast / Lunch / Dinner)</td>\n",
       "      <td>Agree</td>\n",
       "      <td>Agree</td>\n",
       "      <td>...</td>\n",
       "      <td>0</td>\n",
       "      <td>1</td>\n",
       "      <td>0</td>\n",
       "      <td>0</td>\n",
       "      <td>0</td>\n",
       "      <td>1</td>\n",
       "      <td>0</td>\n",
       "      <td>0</td>\n",
       "      <td>0</td>\n",
       "      <td>0</td>\n",
       "    </tr>\n",
       "    <tr>\n",
       "      <th>4</th>\n",
       "      <td>22</td>\n",
       "      <td>Male</td>\n",
       "      <td>Single</td>\n",
       "      <td>Student</td>\n",
       "      <td>Below Rs.10000</td>\n",
       "      <td>Walk-in</td>\n",
       "      <td>Lunch</td>\n",
       "      <td>Non Veg foods (Lunch / Dinner)</td>\n",
       "      <td>Agree</td>\n",
       "      <td>Agree</td>\n",
       "      <td>...</td>\n",
       "      <td>0</td>\n",
       "      <td>0</td>\n",
       "      <td>0</td>\n",
       "      <td>0</td>\n",
       "      <td>0</td>\n",
       "      <td>1</td>\n",
       "      <td>0</td>\n",
       "      <td>0</td>\n",
       "      <td>0</td>\n",
       "      <td>1</td>\n",
       "    </tr>\n",
       "  </tbody>\n",
       "</table>\n",
       "<p>5 rows × 149 columns</p>\n",
       "</div>"
      ],
      "text/plain": [
       "   Age  Gender Marital_Status Occupation  Monthly_Income              Medium  \\\n",
       "0   20  Female         Single    Student       No Income  Food delivery apps   \n",
       "1   24  Female         Single    Student  Below Rs.10000  Food delivery apps   \n",
       "2   22    Male         Single    Student  Below Rs.10000  Food delivery apps   \n",
       "3   22  Female         Single    Student       No Income  Food delivery apps   \n",
       "4   22    Male         Single    Student  Below Rs.10000             Walk-in   \n",
       "\n",
       "        Meal                              Perference Ease_and_convenient  \\\n",
       "0  Breakfast          Non Veg foods (Lunch / Dinner)             Neutral   \n",
       "1     Snacks          Non Veg foods (Lunch / Dinner)      Strongly agree   \n",
       "2      Lunch          Non Veg foods (Lunch / Dinner)      Strongly agree   \n",
       "3     Snacks  Veg foods (Breakfast / Lunch / Dinner)               Agree   \n",
       "4      Lunch          Non Veg foods (Lunch / Dinner)               Agree   \n",
       "\n",
       "      Time_saving  ... Temperature_Unimportant Temperature_Very Important  \\\n",
       "0         Neutral  ...                       0                          0   \n",
       "1  Strongly agree  ...                       0                          1   \n",
       "2  Strongly agree  ...                       0                          0   \n",
       "3           Agree  ...                       0                          1   \n",
       "4           Agree  ...                       0                          0   \n",
       "\n",
       "  Good_Taste_Moderately Important Good_Taste_Slightly Important  \\\n",
       "0                               1                             0   \n",
       "1                               0                             0   \n",
       "2                               0                             0   \n",
       "3                               0                             0   \n",
       "4                               0                             0   \n",
       "\n",
       "  Good_Taste_Unimportant Good_Taste_Very Important  \\\n",
       "0                      0                         0   \n",
       "1                      0                         1   \n",
       "2                      0                         1   \n",
       "3                      0                         1   \n",
       "4                      0                         1   \n",
       "\n",
       "  Good_Quantity_Moderately Important Good_Quantity_Slightly Important  \\\n",
       "0                                  1                                0   \n",
       "1                                  0                                0   \n",
       "2                                  1                                0   \n",
       "3                                  0                                0   \n",
       "4                                  0                                0   \n",
       "\n",
       "  Good_Quantity_Unimportant Good_Quantity_Very Important  \n",
       "0                         0                            0  \n",
       "1                         0                            1  \n",
       "2                         0                            0  \n",
       "3                         0                            0  \n",
       "4                         0                            1  \n",
       "\n",
       "[5 rows x 149 columns]"
      ]
     },
     "execution_count": 22,
     "metadata": {},
     "output_type": "execute_result"
    }
   ],
   "source": [
    "df3.head()"
   ]
  },
  {
   "cell_type": "code",
   "execution_count": 23,
   "metadata": {},
   "outputs": [],
   "source": [
    "cat_vars=['Gender', 'Marital_Status', 'Occupation', 'Monthly_Income',\n",
    "       'Medium', 'Meal', 'Perference', 'Ease_and_convenient', 'Time_saving',\n",
    "       'Easy_Payment_option', 'More_Offers_and_Discount', 'Good_Food_quality',\n",
    "       'Good_Tracking_system', 'Late_Delivery', 'Poor_Hygiene',\n",
    "       'Bad_past_experience', 'Long_delivery_time',\n",
    "       'Delay_in_assigning_delivery_person', 'Delay_in_picking_up_food',\n",
    "       'Wrong_order_delivered', 'Missing_item', 'Order_Time',\n",
    "       'Maximum_wait_time', 'Residence_in_busy_location',\n",
    "       'Influence_of_rating', 'Less_Delivery_time', 'High_Quality_of_package',\n",
    "       'Politeness', 'Freshness', 'Temperature', 'Good_Taste', 'Good_Quantity',]\n",
    "data_vars=df3.columns.values.tolist()\n",
    "to_keep=[i for i in data_vars if i not in cat_vars]"
   ]
  },
  {
   "cell_type": "code",
   "execution_count": 24,
   "metadata": {},
   "outputs": [
    {
     "data": {
      "text/plain": [
       "array(['Age', 'Output', 'Gender_Male', 'Marital_Status_Prefer not to say',\n",
       "       'Marital_Status_Single', 'Occupation_House wife',\n",
       "       'Occupation_Self Employeed', 'Occupation_Student',\n",
       "       'Monthly_Income_25001 to 50000', 'Monthly_Income_Below Rs.10000',\n",
       "       'Monthly_Income_More than 50000', 'Monthly_Income_No Income',\n",
       "       'Medium_Food delivery apps', 'Medium_Walk-in',\n",
       "       'Medium_Web browser', 'Meal_Dinner', 'Meal_Lunch', 'Meal_Snacks',\n",
       "       'Perference_Non Veg foods (Lunch / Dinner)', 'Perference_Sweets',\n",
       "       'Perference_Veg foods (Breakfast / Lunch / Dinner)',\n",
       "       'Ease_and_convenient_Disagree', 'Ease_and_convenient_Neutral',\n",
       "       'Ease_and_convenient_Strongly agree',\n",
       "       'Ease_and_convenient_Strongly disagree', 'Time_saving_Disagree',\n",
       "       'Time_saving_Neutral', 'Time_saving_Strongly agree',\n",
       "       'Time_saving_Strongly disagree', 'Easy_Payment_option_Disagree',\n",
       "       'Easy_Payment_option_Neutral',\n",
       "       'Easy_Payment_option_Strongly agree',\n",
       "       'Easy_Payment_option_Strongly disagree',\n",
       "       'More_Offers_and_Discount_Disagree',\n",
       "       'More_Offers_and_Discount_Neutral',\n",
       "       'More_Offers_and_Discount_Strongly agree',\n",
       "       'More_Offers_and_Discount_Strongly disagree',\n",
       "       'Good_Food_quality_Disagree', 'Good_Food_quality_Neutral',\n",
       "       'Good_Food_quality_Strongly agree',\n",
       "       'Good_Food_quality_Strongly disagree',\n",
       "       'Good_Tracking_system_Disagree', 'Good_Tracking_system_Neutral',\n",
       "       'Good_Tracking_system_Strongly agree',\n",
       "       'Good_Tracking_system_Strongly disagree', 'Late_Delivery_Disagree',\n",
       "       'Late_Delivery_Neutral', 'Late_Delivery_Strongly agree',\n",
       "       'Late_Delivery_Strongly disagree', 'Poor_Hygiene_Disagree',\n",
       "       'Poor_Hygiene_Neutral', 'Poor_Hygiene_Strongly agree',\n",
       "       'Poor_Hygiene_Strongly disagree', 'Bad_past_experience_Disagree',\n",
       "       'Bad_past_experience_Neutral',\n",
       "       'Bad_past_experience_Strongly agree',\n",
       "       'Bad_past_experience_Strongly disagree',\n",
       "       'Long_delivery_time_Disagree', 'Long_delivery_time_Neutral',\n",
       "       'Long_delivery_time_Strongly agree',\n",
       "       'Long_delivery_time_Strongly disagree',\n",
       "       'Delay_in_assigning_delivery_person_Disagree',\n",
       "       'Delay_in_assigning_delivery_person_Neutral',\n",
       "       'Delay_in_assigning_delivery_person_Strongly agree',\n",
       "       'Delay_in_assigning_delivery_person_Strongly disagree',\n",
       "       'Delay_in_picking_up_food_Disagree',\n",
       "       'Delay_in_picking_up_food_Neutral',\n",
       "       'Delay_in_picking_up_food_Strongly agree',\n",
       "       'Delay_in_picking_up_food_Strongly disagree',\n",
       "       'Wrong_order_delivered_Disagree', 'Wrong_order_delivered_Neutral',\n",
       "       'Wrong_order_delivered_Strongly agree',\n",
       "       'Wrong_order_delivered_Strongly disagree', 'Missing_item_Disagree',\n",
       "       'Missing_item_Neutral', 'Missing_item_Strongly agree',\n",
       "       'Missing_item_Strongly disagree', 'Order_Time_Weekdays (Mon-Fri)',\n",
       "       'Order_Time_Weekend (Sat & Sun)', 'Maximum_wait_time_30 minutes',\n",
       "       'Maximum_wait_time_45 minutes', 'Maximum_wait_time_60 minutes',\n",
       "       'Maximum_wait_time_More than 60 minutes',\n",
       "       'Residence_in_busy_location_Disagree',\n",
       "       'Residence_in_busy_location_Neutral',\n",
       "       'Residence_in_busy_location_Strongly Agree',\n",
       "       'Residence_in_busy_location_Strongly disagree',\n",
       "       'Influence_of_rating_No', 'Influence_of_rating_Yes',\n",
       "       'Less_Delivery_time_Moderately Important',\n",
       "       'Less_Delivery_time_Slightly Important',\n",
       "       'Less_Delivery_time_Unimportant',\n",
       "       'Less_Delivery_time_Very Important',\n",
       "       'High_Quality_of_package_Moderately Important',\n",
       "       'High_Quality_of_package_Slightly Important',\n",
       "       'High_Quality_of_package_Unimportant',\n",
       "       'High_Quality_of_package_Very Important',\n",
       "       'Politeness_Moderately Important', 'Politeness_Slightly Important',\n",
       "       'Politeness_Unimportant', 'Politeness_Very Important',\n",
       "       'Freshness_Moderately Important', 'Freshness_Slightly Important',\n",
       "       'Freshness_Unimportant', 'Freshness_Very Important',\n",
       "       'Temperature_Moderately Important',\n",
       "       'Temperature_Slightly Important', 'Temperature_Unimportant',\n",
       "       'Temperature_Very Important', 'Good_Taste_Moderately Important',\n",
       "       'Good_Taste_Slightly Important', 'Good_Taste_Unimportant',\n",
       "       'Good_Taste_Very Important', 'Good_Quantity_Moderately Important',\n",
       "       'Good_Quantity_Slightly Important', 'Good_Quantity_Unimportant',\n",
       "       'Good_Quantity_Very Important'], dtype=object)"
      ]
     },
     "execution_count": 24,
     "metadata": {},
     "output_type": "execute_result"
    }
   ],
   "source": [
    "data_final=df3[to_keep]\n",
    "data_final.columns.values"
   ]
  },
  {
   "cell_type": "code",
   "execution_count": 25,
   "metadata": {},
   "outputs": [
    {
     "data": {
      "text/html": [
       "<div>\n",
       "<style scoped>\n",
       "    .dataframe tbody tr th:only-of-type {\n",
       "        vertical-align: middle;\n",
       "    }\n",
       "\n",
       "    .dataframe tbody tr th {\n",
       "        vertical-align: top;\n",
       "    }\n",
       "\n",
       "    .dataframe thead th {\n",
       "        text-align: right;\n",
       "    }\n",
       "</style>\n",
       "<table border=\"1\" class=\"dataframe\">\n",
       "  <thead>\n",
       "    <tr style=\"text-align: right;\">\n",
       "      <th></th>\n",
       "      <th>Age</th>\n",
       "      <th>Output</th>\n",
       "      <th>Gender_Male</th>\n",
       "      <th>Marital_Status_Prefer not to say</th>\n",
       "      <th>Marital_Status_Single</th>\n",
       "      <th>Occupation_House wife</th>\n",
       "      <th>Occupation_Self Employeed</th>\n",
       "      <th>Occupation_Student</th>\n",
       "      <th>Monthly_Income_25001 to 50000</th>\n",
       "      <th>Monthly_Income_Below Rs.10000</th>\n",
       "      <th>...</th>\n",
       "      <th>Temperature_Unimportant</th>\n",
       "      <th>Temperature_Very Important</th>\n",
       "      <th>Good_Taste_Moderately Important</th>\n",
       "      <th>Good_Taste_Slightly Important</th>\n",
       "      <th>Good_Taste_Unimportant</th>\n",
       "      <th>Good_Taste_Very Important</th>\n",
       "      <th>Good_Quantity_Moderately Important</th>\n",
       "      <th>Good_Quantity_Slightly Important</th>\n",
       "      <th>Good_Quantity_Unimportant</th>\n",
       "      <th>Good_Quantity_Very Important</th>\n",
       "    </tr>\n",
       "  </thead>\n",
       "  <tbody>\n",
       "    <tr>\n",
       "      <th>0</th>\n",
       "      <td>20</td>\n",
       "      <td>Yes</td>\n",
       "      <td>0</td>\n",
       "      <td>0</td>\n",
       "      <td>1</td>\n",
       "      <td>0</td>\n",
       "      <td>0</td>\n",
       "      <td>1</td>\n",
       "      <td>0</td>\n",
       "      <td>0</td>\n",
       "      <td>...</td>\n",
       "      <td>0</td>\n",
       "      <td>0</td>\n",
       "      <td>1</td>\n",
       "      <td>0</td>\n",
       "      <td>0</td>\n",
       "      <td>0</td>\n",
       "      <td>1</td>\n",
       "      <td>0</td>\n",
       "      <td>0</td>\n",
       "      <td>0</td>\n",
       "    </tr>\n",
       "    <tr>\n",
       "      <th>1</th>\n",
       "      <td>24</td>\n",
       "      <td>Yes</td>\n",
       "      <td>0</td>\n",
       "      <td>0</td>\n",
       "      <td>1</td>\n",
       "      <td>0</td>\n",
       "      <td>0</td>\n",
       "      <td>1</td>\n",
       "      <td>0</td>\n",
       "      <td>1</td>\n",
       "      <td>...</td>\n",
       "      <td>0</td>\n",
       "      <td>1</td>\n",
       "      <td>0</td>\n",
       "      <td>0</td>\n",
       "      <td>0</td>\n",
       "      <td>1</td>\n",
       "      <td>0</td>\n",
       "      <td>0</td>\n",
       "      <td>0</td>\n",
       "      <td>1</td>\n",
       "    </tr>\n",
       "    <tr>\n",
       "      <th>2</th>\n",
       "      <td>22</td>\n",
       "      <td>Yes</td>\n",
       "      <td>1</td>\n",
       "      <td>0</td>\n",
       "      <td>1</td>\n",
       "      <td>0</td>\n",
       "      <td>0</td>\n",
       "      <td>1</td>\n",
       "      <td>0</td>\n",
       "      <td>1</td>\n",
       "      <td>...</td>\n",
       "      <td>0</td>\n",
       "      <td>0</td>\n",
       "      <td>0</td>\n",
       "      <td>0</td>\n",
       "      <td>0</td>\n",
       "      <td>1</td>\n",
       "      <td>1</td>\n",
       "      <td>0</td>\n",
       "      <td>0</td>\n",
       "      <td>0</td>\n",
       "    </tr>\n",
       "  </tbody>\n",
       "</table>\n",
       "<p>3 rows × 117 columns</p>\n",
       "</div>"
      ],
      "text/plain": [
       "   Age Output  Gender_Male  Marital_Status_Prefer not to say  \\\n",
       "0   20    Yes            0                                 0   \n",
       "1   24    Yes            0                                 0   \n",
       "2   22    Yes            1                                 0   \n",
       "\n",
       "   Marital_Status_Single  Occupation_House wife  Occupation_Self Employeed  \\\n",
       "0                      1                      0                          0   \n",
       "1                      1                      0                          0   \n",
       "2                      1                      0                          0   \n",
       "\n",
       "   Occupation_Student  Monthly_Income_25001 to 50000  \\\n",
       "0                   1                              0   \n",
       "1                   1                              0   \n",
       "2                   1                              0   \n",
       "\n",
       "   Monthly_Income_Below Rs.10000  ...  Temperature_Unimportant  \\\n",
       "0                              0  ...                        0   \n",
       "1                              1  ...                        0   \n",
       "2                              1  ...                        0   \n",
       "\n",
       "   Temperature_Very Important  Good_Taste_Moderately Important  \\\n",
       "0                           0                                1   \n",
       "1                           1                                0   \n",
       "2                           0                                0   \n",
       "\n",
       "   Good_Taste_Slightly Important  Good_Taste_Unimportant  \\\n",
       "0                              0                       0   \n",
       "1                              0                       0   \n",
       "2                              0                       0   \n",
       "\n",
       "   Good_Taste_Very Important  Good_Quantity_Moderately Important  \\\n",
       "0                          0                                   1   \n",
       "1                          1                                   0   \n",
       "2                          1                                   1   \n",
       "\n",
       "   Good_Quantity_Slightly Important  Good_Quantity_Unimportant  \\\n",
       "0                                 0                          0   \n",
       "1                                 0                          0   \n",
       "2                                 0                          0   \n",
       "\n",
       "   Good_Quantity_Very Important  \n",
       "0                             0  \n",
       "1                             1  \n",
       "2                             0  \n",
       "\n",
       "[3 rows x 117 columns]"
      ]
     },
     "execution_count": 25,
     "metadata": {},
     "output_type": "execute_result"
    }
   ],
   "source": [
    "data_final.head(3)"
   ]
  },
  {
   "cell_type": "code",
   "execution_count": 26,
   "metadata": {},
   "outputs": [
    {
     "data": {
      "text/plain": [
       "(388, 117)"
      ]
     },
     "execution_count": 26,
     "metadata": {},
     "output_type": "execute_result"
    }
   ],
   "source": [
    "\n",
    "\n",
    "data_final.shape"
   ]
  },
  {
   "cell_type": "code",
   "execution_count": 27,
   "metadata": {},
   "outputs": [
    {
     "name": "stdout",
     "output_type": "stream",
     "text": [
      "<class 'pandas.core.frame.DataFrame'>\n",
      "RangeIndex: 388 entries, 0 to 387\n",
      "Columns: 117 entries, Age to Good_Quantity_Very Important\n",
      "dtypes: category(1), int64(1), uint8(115)\n",
      "memory usage: 47.2 KB\n"
     ]
    }
   ],
   "source": [
    "data_final.info()"
   ]
  },
  {
   "cell_type": "markdown",
   "metadata": {},
   "source": [
    "#### converted target variable content from Yes/No to 1/0."
   ]
  },
  {
   "cell_type": "code",
   "execution_count": 28,
   "metadata": {},
   "outputs": [
    {
     "name": "stderr",
     "output_type": "stream",
     "text": [
      "C:\\Users\\mahesh\\anaconda3\\lib\\site-packages\\pandas\\core\\generic.py:5494: SettingWithCopyWarning: \n",
      "A value is trying to be set on a copy of a slice from a DataFrame.\n",
      "Try using .loc[row_indexer,col_indexer] = value instead\n",
      "\n",
      "See the caveats in the documentation: https://pandas.pydata.org/pandas-docs/stable/user_guide/indexing.html#returning-a-view-versus-a-copy\n",
      "  self[name] = value\n"
     ]
    }
   ],
   "source": [
    "data_final.Output=data_final.Output.map(dict(Yes=1, No=0))"
   ]
  },
  {
   "cell_type": "code",
   "execution_count": 29,
   "metadata": {},
   "outputs": [
    {
     "data": {
      "text/plain": [
       "1    301\n",
       "0     87\n",
       "Name: Output, dtype: int64"
      ]
     },
     "execution_count": 29,
     "metadata": {},
     "output_type": "execute_result"
    }
   ],
   "source": [
    "data_final.Output.value_counts()"
   ]
  },
  {
   "cell_type": "code",
   "execution_count": 33,
   "metadata": {},
   "outputs": [
    {
     "data": {
      "text/plain": [
       "CategoricalDtype(categories=[0, 1], ordered=False)"
      ]
     },
     "execution_count": 33,
     "metadata": {},
     "output_type": "execute_result"
    }
   ],
   "source": [
    "data_final.Output.dtype"
   ]
  },
  {
   "cell_type": "code",
   "execution_count": 72,
   "metadata": {},
   "outputs": [],
   "source": [
    "X = data_final.drop('Output', axis = 1)\n",
    "y = data_final['Output']\n",
    "seed = 10\n",
    "test_size = 0.3\n",
    "X_train, X_test, y_train, y_test = train_te st_split(X, y, test_size = test_size, random_state = seed, stratify = y)"
   ]
  },
  {
   "cell_type": "code",
   "execution_count": 73,
   "metadata": {},
   "outputs": [
    {
     "data": {
      "text/plain": [
       "((271, 116), (117, 116), (271,), (117,))"
      ]
     },
     "execution_count": 73,
     "metadata": {},
     "output_type": "execute_result"
    }
   ],
   "source": [
    "X_train.shape, X_test.shape, y_train.shape, y_test.shape"
   ]
  },
  {
   "cell_type": "code",
   "execution_count": 74,
   "metadata": {},
   "outputs": [],
   "source": [
    "from imblearn.over_sampling import SMOTE"
   ]
  },
  {
   "cell_type": "code",
   "execution_count": 75,
   "metadata": {},
   "outputs": [],
   "source": [
    "oversampling = SMOTE(sampling_strategy = 0.5)"
   ]
  },
  {
   "cell_type": "code",
   "execution_count": 76,
   "metadata": {},
   "outputs": [],
   "source": [
    "X_res, y_res = oversampling.fit_resample(X_train, y_train)"
   ]
  },
  {
   "cell_type": "code",
   "execution_count": 77,
   "metadata": {},
   "outputs": [
    {
     "data": {
      "text/plain": [
       "((315, 116), (315,))"
      ]
     },
     "execution_count": 77,
     "metadata": {},
     "output_type": "execute_result"
    }
   ],
   "source": [
    "X_res.shape, y_res.shape"
   ]
  },
  {
   "cell_type": "code",
   "execution_count": 78,
   "metadata": {},
   "outputs": [],
   "source": [
    "from collections import Counter"
   ]
  },
  {
   "cell_type": "code",
   "execution_count": 79,
   "metadata": {},
   "outputs": [
    {
     "data": {
      "text/plain": [
       "Counter({1: 210, 0: 105})"
      ]
     },
     "execution_count": 79,
     "metadata": {},
     "output_type": "execute_result"
    }
   ],
   "source": [
    "Counter(y_res)"
   ]
  },
  {
   "cell_type": "code",
   "execution_count": 80,
   "metadata": {},
   "outputs": [],
   "source": [
    "#from imblearn.over_sampling import SMOTE\n",
    "#os = SMOTE(random_state=0)"
   ]
  },
  {
   "cell_type": "raw",
   "metadata": {},
   "source": [
    "columns = X_train.columns\n",
    "os_data_X,os_data_y=os.fit_resample(X_train, y_train)\n",
    "os_data_X = pd.DataFrame(data=os_data_X,columns=columns )\n",
    "os_data_y= pd.DataFrame(data=os_data_y,columns=['Output'])\n",
    "# we can Check the numbers of our data\n",
    "print(\"length of oversampled data is \",len(os_data_X))\n",
    "print(\"Number of no subscription in oversampled data\",len(os_data_y[os_data_y['Output']==0]))\n",
    "print(\"Number of subscription\",len(os_data_y[os_data_y['Output']==1]))\n",
    "print(\"Proportion of no subscription data in oversampled data is \",len(os_data_y[os_data_y['Output']==0])/len(os_data_X))\n",
    "print(\"Proportion of subscription data in oversampled data is \",len(os_data_y[os_data_y['Output']==1])/len(os_data_X))"
   ]
  },
  {
   "cell_type": "code",
   "execution_count": null,
   "metadata": {},
   "outputs": [],
   "source": []
  },
  {
   "cell_type": "code",
   "execution_count": 81,
   "metadata": {},
   "outputs": [
    {
     "name": "stderr",
     "output_type": "stream",
     "text": [
      "C:\\Users\\mahesh\\anaconda3\\lib\\site-packages\\sklearn\\linear_model\\_logistic.py:763: ConvergenceWarning: lbfgs failed to converge (status=1):\n",
      "STOP: TOTAL NO. of ITERATIONS REACHED LIMIT.\n",
      "\n",
      "Increase the number of iterations (max_iter) or scale the data as shown in:\n",
      "    https://scikit-learn.org/stable/modules/preprocessing.html\n",
      "Please also refer to the documentation for alternative solver options:\n",
      "    https://scikit-learn.org/stable/modules/linear_model.html#logistic-regression\n",
      "  n_iter_i = _check_optimize_result(\n",
      "C:\\Users\\mahesh\\anaconda3\\lib\\site-packages\\sklearn\\linear_model\\_logistic.py:763: ConvergenceWarning: lbfgs failed to converge (status=1):\n",
      "STOP: TOTAL NO. of ITERATIONS REACHED LIMIT.\n",
      "\n",
      "Increase the number of iterations (max_iter) or scale the data as shown in:\n",
      "    https://scikit-learn.org/stable/modules/preprocessing.html\n",
      "Please also refer to the documentation for alternative solver options:\n",
      "    https://scikit-learn.org/stable/modules/linear_model.html#logistic-regression\n",
      "  n_iter_i = _check_optimize_result(\n",
      "C:\\Users\\mahesh\\anaconda3\\lib\\site-packages\\sklearn\\linear_model\\_logistic.py:763: ConvergenceWarning: lbfgs failed to converge (status=1):\n",
      "STOP: TOTAL NO. of ITERATIONS REACHED LIMIT.\n",
      "\n",
      "Increase the number of iterations (max_iter) or scale the data as shown in:\n",
      "    https://scikit-learn.org/stable/modules/preprocessing.html\n",
      "Please also refer to the documentation for alternative solver options:\n",
      "    https://scikit-learn.org/stable/modules/linear_model.html#logistic-regression\n",
      "  n_iter_i = _check_optimize_result(\n",
      "C:\\Users\\mahesh\\anaconda3\\lib\\site-packages\\sklearn\\linear_model\\_logistic.py:763: ConvergenceWarning: lbfgs failed to converge (status=1):\n",
      "STOP: TOTAL NO. of ITERATIONS REACHED LIMIT.\n",
      "\n",
      "Increase the number of iterations (max_iter) or scale the data as shown in:\n",
      "    https://scikit-learn.org/stable/modules/preprocessing.html\n",
      "Please also refer to the documentation for alternative solver options:\n",
      "    https://scikit-learn.org/stable/modules/linear_model.html#logistic-regression\n",
      "  n_iter_i = _check_optimize_result(\n",
      "C:\\Users\\mahesh\\anaconda3\\lib\\site-packages\\sklearn\\linear_model\\_logistic.py:763: ConvergenceWarning: lbfgs failed to converge (status=1):\n",
      "STOP: TOTAL NO. of ITERATIONS REACHED LIMIT.\n",
      "\n",
      "Increase the number of iterations (max_iter) or scale the data as shown in:\n",
      "    https://scikit-learn.org/stable/modules/preprocessing.html\n",
      "Please also refer to the documentation for alternative solver options:\n",
      "    https://scikit-learn.org/stable/modules/linear_model.html#logistic-regression\n",
      "  n_iter_i = _check_optimize_result(\n",
      "C:\\Users\\mahesh\\anaconda3\\lib\\site-packages\\sklearn\\linear_model\\_logistic.py:763: ConvergenceWarning: lbfgs failed to converge (status=1):\n",
      "STOP: TOTAL NO. of ITERATIONS REACHED LIMIT.\n",
      "\n",
      "Increase the number of iterations (max_iter) or scale the data as shown in:\n",
      "    https://scikit-learn.org/stable/modules/preprocessing.html\n",
      "Please also refer to the documentation for alternative solver options:\n",
      "    https://scikit-learn.org/stable/modules/linear_model.html#logistic-regression\n",
      "  n_iter_i = _check_optimize_result(\n",
      "C:\\Users\\mahesh\\anaconda3\\lib\\site-packages\\sklearn\\linear_model\\_logistic.py:763: ConvergenceWarning: lbfgs failed to converge (status=1):\n",
      "STOP: TOTAL NO. of ITERATIONS REACHED LIMIT.\n",
      "\n",
      "Increase the number of iterations (max_iter) or scale the data as shown in:\n",
      "    https://scikit-learn.org/stable/modules/preprocessing.html\n",
      "Please also refer to the documentation for alternative solver options:\n",
      "    https://scikit-learn.org/stable/modules/linear_model.html#logistic-regression\n",
      "  n_iter_i = _check_optimize_result(\n",
      "C:\\Users\\mahesh\\anaconda3\\lib\\site-packages\\sklearn\\linear_model\\_logistic.py:763: ConvergenceWarning: lbfgs failed to converge (status=1):\n",
      "STOP: TOTAL NO. of ITERATIONS REACHED LIMIT.\n",
      "\n",
      "Increase the number of iterations (max_iter) or scale the data as shown in:\n",
      "    https://scikit-learn.org/stable/modules/preprocessing.html\n",
      "Please also refer to the documentation for alternative solver options:\n",
      "    https://scikit-learn.org/stable/modules/linear_model.html#logistic-regression\n",
      "  n_iter_i = _check_optimize_result(\n",
      "C:\\Users\\mahesh\\anaconda3\\lib\\site-packages\\sklearn\\linear_model\\_logistic.py:763: ConvergenceWarning: lbfgs failed to converge (status=1):\n",
      "STOP: TOTAL NO. of ITERATIONS REACHED LIMIT.\n",
      "\n",
      "Increase the number of iterations (max_iter) or scale the data as shown in:\n",
      "    https://scikit-learn.org/stable/modules/preprocessing.html\n",
      "Please also refer to the documentation for alternative solver options:\n",
      "    https://scikit-learn.org/stable/modules/linear_model.html#logistic-regression\n",
      "  n_iter_i = _check_optimize_result(\n",
      "C:\\Users\\mahesh\\anaconda3\\lib\\site-packages\\sklearn\\linear_model\\_logistic.py:763: ConvergenceWarning: lbfgs failed to converge (status=1):\n",
      "STOP: TOTAL NO. of ITERATIONS REACHED LIMIT.\n",
      "\n",
      "Increase the number of iterations (max_iter) or scale the data as shown in:\n",
      "    https://scikit-learn.org/stable/modules/preprocessing.html\n",
      "Please also refer to the documentation for alternative solver options:\n",
      "    https://scikit-learn.org/stable/modules/linear_model.html#logistic-regression\n",
      "  n_iter_i = _check_optimize_result(\n",
      "C:\\Users\\mahesh\\anaconda3\\lib\\site-packages\\sklearn\\linear_model\\_logistic.py:763: ConvergenceWarning: lbfgs failed to converge (status=1):\n",
      "STOP: TOTAL NO. of ITERATIONS REACHED LIMIT.\n",
      "\n",
      "Increase the number of iterations (max_iter) or scale the data as shown in:\n",
      "    https://scikit-learn.org/stable/modules/preprocessing.html\n",
      "Please also refer to the documentation for alternative solver options:\n",
      "    https://scikit-learn.org/stable/modules/linear_model.html#logistic-regression\n",
      "  n_iter_i = _check_optimize_result(\n",
      "C:\\Users\\mahesh\\anaconda3\\lib\\site-packages\\sklearn\\linear_model\\_logistic.py:763: ConvergenceWarning: lbfgs failed to converge (status=1):\n",
      "STOP: TOTAL NO. of ITERATIONS REACHED LIMIT.\n",
      "\n",
      "Increase the number of iterations (max_iter) or scale the data as shown in:\n",
      "    https://scikit-learn.org/stable/modules/preprocessing.html\n",
      "Please also refer to the documentation for alternative solver options:\n",
      "    https://scikit-learn.org/stable/modules/linear_model.html#logistic-regression\n",
      "  n_iter_i = _check_optimize_result(\n",
      "C:\\Users\\mahesh\\anaconda3\\lib\\site-packages\\sklearn\\linear_model\\_logistic.py:763: ConvergenceWarning: lbfgs failed to converge (status=1):\n",
      "STOP: TOTAL NO. of ITERATIONS REACHED LIMIT.\n",
      "\n",
      "Increase the number of iterations (max_iter) or scale the data as shown in:\n",
      "    https://scikit-learn.org/stable/modules/preprocessing.html\n",
      "Please also refer to the documentation for alternative solver options:\n",
      "    https://scikit-learn.org/stable/modules/linear_model.html#logistic-regression\n",
      "  n_iter_i = _check_optimize_result(\n",
      "C:\\Users\\mahesh\\anaconda3\\lib\\site-packages\\sklearn\\linear_model\\_logistic.py:763: ConvergenceWarning: lbfgs failed to converge (status=1):\n",
      "STOP: TOTAL NO. of ITERATIONS REACHED LIMIT.\n",
      "\n",
      "Increase the number of iterations (max_iter) or scale the data as shown in:\n",
      "    https://scikit-learn.org/stable/modules/preprocessing.html\n",
      "Please also refer to the documentation for alternative solver options:\n",
      "    https://scikit-learn.org/stable/modules/linear_model.html#logistic-regression\n",
      "  n_iter_i = _check_optimize_result(\n",
      "C:\\Users\\mahesh\\anaconda3\\lib\\site-packages\\sklearn\\linear_model\\_logistic.py:763: ConvergenceWarning: lbfgs failed to converge (status=1):\n",
      "STOP: TOTAL NO. of ITERATIONS REACHED LIMIT.\n",
      "\n",
      "Increase the number of iterations (max_iter) or scale the data as shown in:\n",
      "    https://scikit-learn.org/stable/modules/preprocessing.html\n",
      "Please also refer to the documentation for alternative solver options:\n",
      "    https://scikit-learn.org/stable/modules/linear_model.html#logistic-regression\n",
      "  n_iter_i = _check_optimize_result(\n",
      "C:\\Users\\mahesh\\anaconda3\\lib\\site-packages\\sklearn\\linear_model\\_logistic.py:763: ConvergenceWarning: lbfgs failed to converge (status=1):\n",
      "STOP: TOTAL NO. of ITERATIONS REACHED LIMIT.\n",
      "\n",
      "Increase the number of iterations (max_iter) or scale the data as shown in:\n",
      "    https://scikit-learn.org/stable/modules/preprocessing.html\n",
      "Please also refer to the documentation for alternative solver options:\n",
      "    https://scikit-learn.org/stable/modules/linear_model.html#logistic-regression\n",
      "  n_iter_i = _check_optimize_result(\n",
      "C:\\Users\\mahesh\\anaconda3\\lib\\site-packages\\sklearn\\linear_model\\_logistic.py:763: ConvergenceWarning: lbfgs failed to converge (status=1):\n",
      "STOP: TOTAL NO. of ITERATIONS REACHED LIMIT.\n",
      "\n",
      "Increase the number of iterations (max_iter) or scale the data as shown in:\n",
      "    https://scikit-learn.org/stable/modules/preprocessing.html\n",
      "Please also refer to the documentation for alternative solver options:\n",
      "    https://scikit-learn.org/stable/modules/linear_model.html#logistic-regression\n",
      "  n_iter_i = _check_optimize_result(\n",
      "C:\\Users\\mahesh\\anaconda3\\lib\\site-packages\\sklearn\\linear_model\\_logistic.py:763: ConvergenceWarning: lbfgs failed to converge (status=1):\n",
      "STOP: TOTAL NO. of ITERATIONS REACHED LIMIT.\n",
      "\n",
      "Increase the number of iterations (max_iter) or scale the data as shown in:\n",
      "    https://scikit-learn.org/stable/modules/preprocessing.html\n",
      "Please also refer to the documentation for alternative solver options:\n",
      "    https://scikit-learn.org/stable/modules/linear_model.html#logistic-regression\n",
      "  n_iter_i = _check_optimize_result(\n",
      "C:\\Users\\mahesh\\anaconda3\\lib\\site-packages\\sklearn\\linear_model\\_logistic.py:763: ConvergenceWarning: lbfgs failed to converge (status=1):\n",
      "STOP: TOTAL NO. of ITERATIONS REACHED LIMIT.\n",
      "\n",
      "Increase the number of iterations (max_iter) or scale the data as shown in:\n",
      "    https://scikit-learn.org/stable/modules/preprocessing.html\n",
      "Please also refer to the documentation for alternative solver options:\n",
      "    https://scikit-learn.org/stable/modules/linear_model.html#logistic-regression\n",
      "  n_iter_i = _check_optimize_result(\n",
      "C:\\Users\\mahesh\\anaconda3\\lib\\site-packages\\sklearn\\linear_model\\_logistic.py:763: ConvergenceWarning: lbfgs failed to converge (status=1):\n",
      "STOP: TOTAL NO. of ITERATIONS REACHED LIMIT.\n",
      "\n",
      "Increase the number of iterations (max_iter) or scale the data as shown in:\n",
      "    https://scikit-learn.org/stable/modules/preprocessing.html\n",
      "Please also refer to the documentation for alternative solver options:\n",
      "    https://scikit-learn.org/stable/modules/linear_model.html#logistic-regression\n",
      "  n_iter_i = _check_optimize_result(\n"
     ]
    },
    {
     "name": "stderr",
     "output_type": "stream",
     "text": [
      "C:\\Users\\mahesh\\anaconda3\\lib\\site-packages\\sklearn\\linear_model\\_logistic.py:763: ConvergenceWarning: lbfgs failed to converge (status=1):\n",
      "STOP: TOTAL NO. of ITERATIONS REACHED LIMIT.\n",
      "\n",
      "Increase the number of iterations (max_iter) or scale the data as shown in:\n",
      "    https://scikit-learn.org/stable/modules/preprocessing.html\n",
      "Please also refer to the documentation for alternative solver options:\n",
      "    https://scikit-learn.org/stable/modules/linear_model.html#logistic-regression\n",
      "  n_iter_i = _check_optimize_result(\n",
      "C:\\Users\\mahesh\\anaconda3\\lib\\site-packages\\sklearn\\linear_model\\_logistic.py:763: ConvergenceWarning: lbfgs failed to converge (status=1):\n",
      "STOP: TOTAL NO. of ITERATIONS REACHED LIMIT.\n",
      "\n",
      "Increase the number of iterations (max_iter) or scale the data as shown in:\n",
      "    https://scikit-learn.org/stable/modules/preprocessing.html\n",
      "Please also refer to the documentation for alternative solver options:\n",
      "    https://scikit-learn.org/stable/modules/linear_model.html#logistic-regression\n",
      "  n_iter_i = _check_optimize_result(\n",
      "C:\\Users\\mahesh\\anaconda3\\lib\\site-packages\\sklearn\\linear_model\\_logistic.py:763: ConvergenceWarning: lbfgs failed to converge (status=1):\n",
      "STOP: TOTAL NO. of ITERATIONS REACHED LIMIT.\n",
      "\n",
      "Increase the number of iterations (max_iter) or scale the data as shown in:\n",
      "    https://scikit-learn.org/stable/modules/preprocessing.html\n",
      "Please also refer to the documentation for alternative solver options:\n",
      "    https://scikit-learn.org/stable/modules/linear_model.html#logistic-regression\n",
      "  n_iter_i = _check_optimize_result(\n",
      "C:\\Users\\mahesh\\anaconda3\\lib\\site-packages\\sklearn\\linear_model\\_logistic.py:763: ConvergenceWarning: lbfgs failed to converge (status=1):\n",
      "STOP: TOTAL NO. of ITERATIONS REACHED LIMIT.\n",
      "\n",
      "Increase the number of iterations (max_iter) or scale the data as shown in:\n",
      "    https://scikit-learn.org/stable/modules/preprocessing.html\n",
      "Please also refer to the documentation for alternative solver options:\n",
      "    https://scikit-learn.org/stable/modules/linear_model.html#logistic-regression\n",
      "  n_iter_i = _check_optimize_result(\n",
      "C:\\Users\\mahesh\\anaconda3\\lib\\site-packages\\sklearn\\linear_model\\_logistic.py:763: ConvergenceWarning: lbfgs failed to converge (status=1):\n",
      "STOP: TOTAL NO. of ITERATIONS REACHED LIMIT.\n",
      "\n",
      "Increase the number of iterations (max_iter) or scale the data as shown in:\n",
      "    https://scikit-learn.org/stable/modules/preprocessing.html\n",
      "Please also refer to the documentation for alternative solver options:\n",
      "    https://scikit-learn.org/stable/modules/linear_model.html#logistic-regression\n",
      "  n_iter_i = _check_optimize_result(\n",
      "C:\\Users\\mahesh\\anaconda3\\lib\\site-packages\\sklearn\\linear_model\\_logistic.py:763: ConvergenceWarning: lbfgs failed to converge (status=1):\n",
      "STOP: TOTAL NO. of ITERATIONS REACHED LIMIT.\n",
      "\n",
      "Increase the number of iterations (max_iter) or scale the data as shown in:\n",
      "    https://scikit-learn.org/stable/modules/preprocessing.html\n",
      "Please also refer to the documentation for alternative solver options:\n",
      "    https://scikit-learn.org/stable/modules/linear_model.html#logistic-regression\n",
      "  n_iter_i = _check_optimize_result(\n",
      "C:\\Users\\mahesh\\anaconda3\\lib\\site-packages\\sklearn\\linear_model\\_logistic.py:763: ConvergenceWarning: lbfgs failed to converge (status=1):\n",
      "STOP: TOTAL NO. of ITERATIONS REACHED LIMIT.\n",
      "\n",
      "Increase the number of iterations (max_iter) or scale the data as shown in:\n",
      "    https://scikit-learn.org/stable/modules/preprocessing.html\n",
      "Please also refer to the documentation for alternative solver options:\n",
      "    https://scikit-learn.org/stable/modules/linear_model.html#logistic-regression\n",
      "  n_iter_i = _check_optimize_result(\n",
      "C:\\Users\\mahesh\\anaconda3\\lib\\site-packages\\sklearn\\linear_model\\_logistic.py:763: ConvergenceWarning: lbfgs failed to converge (status=1):\n",
      "STOP: TOTAL NO. of ITERATIONS REACHED LIMIT.\n",
      "\n",
      "Increase the number of iterations (max_iter) or scale the data as shown in:\n",
      "    https://scikit-learn.org/stable/modules/preprocessing.html\n",
      "Please also refer to the documentation for alternative solver options:\n",
      "    https://scikit-learn.org/stable/modules/linear_model.html#logistic-regression\n",
      "  n_iter_i = _check_optimize_result(\n",
      "C:\\Users\\mahesh\\anaconda3\\lib\\site-packages\\sklearn\\linear_model\\_logistic.py:763: ConvergenceWarning: lbfgs failed to converge (status=1):\n",
      "STOP: TOTAL NO. of ITERATIONS REACHED LIMIT.\n",
      "\n",
      "Increase the number of iterations (max_iter) or scale the data as shown in:\n",
      "    https://scikit-learn.org/stable/modules/preprocessing.html\n",
      "Please also refer to the documentation for alternative solver options:\n",
      "    https://scikit-learn.org/stable/modules/linear_model.html#logistic-regression\n",
      "  n_iter_i = _check_optimize_result(\n",
      "C:\\Users\\mahesh\\anaconda3\\lib\\site-packages\\sklearn\\linear_model\\_logistic.py:763: ConvergenceWarning: lbfgs failed to converge (status=1):\n",
      "STOP: TOTAL NO. of ITERATIONS REACHED LIMIT.\n",
      "\n",
      "Increase the number of iterations (max_iter) or scale the data as shown in:\n",
      "    https://scikit-learn.org/stable/modules/preprocessing.html\n",
      "Please also refer to the documentation for alternative solver options:\n",
      "    https://scikit-learn.org/stable/modules/linear_model.html#logistic-regression\n",
      "  n_iter_i = _check_optimize_result(\n",
      "C:\\Users\\mahesh\\anaconda3\\lib\\site-packages\\sklearn\\linear_model\\_logistic.py:763: ConvergenceWarning: lbfgs failed to converge (status=1):\n",
      "STOP: TOTAL NO. of ITERATIONS REACHED LIMIT.\n",
      "\n",
      "Increase the number of iterations (max_iter) or scale the data as shown in:\n",
      "    https://scikit-learn.org/stable/modules/preprocessing.html\n",
      "Please also refer to the documentation for alternative solver options:\n",
      "    https://scikit-learn.org/stable/modules/linear_model.html#logistic-regression\n",
      "  n_iter_i = _check_optimize_result(\n",
      "C:\\Users\\mahesh\\anaconda3\\lib\\site-packages\\sklearn\\linear_model\\_logistic.py:763: ConvergenceWarning: lbfgs failed to converge (status=1):\n",
      "STOP: TOTAL NO. of ITERATIONS REACHED LIMIT.\n",
      "\n",
      "Increase the number of iterations (max_iter) or scale the data as shown in:\n",
      "    https://scikit-learn.org/stable/modules/preprocessing.html\n",
      "Please also refer to the documentation for alternative solver options:\n",
      "    https://scikit-learn.org/stable/modules/linear_model.html#logistic-regression\n",
      "  n_iter_i = _check_optimize_result(\n",
      "C:\\Users\\mahesh\\anaconda3\\lib\\site-packages\\sklearn\\linear_model\\_logistic.py:763: ConvergenceWarning: lbfgs failed to converge (status=1):\n",
      "STOP: TOTAL NO. of ITERATIONS REACHED LIMIT.\n",
      "\n",
      "Increase the number of iterations (max_iter) or scale the data as shown in:\n",
      "    https://scikit-learn.org/stable/modules/preprocessing.html\n",
      "Please also refer to the documentation for alternative solver options:\n",
      "    https://scikit-learn.org/stable/modules/linear_model.html#logistic-regression\n",
      "  n_iter_i = _check_optimize_result(\n",
      "C:\\Users\\mahesh\\anaconda3\\lib\\site-packages\\sklearn\\linear_model\\_logistic.py:763: ConvergenceWarning: lbfgs failed to converge (status=1):\n",
      "STOP: TOTAL NO. of ITERATIONS REACHED LIMIT.\n",
      "\n",
      "Increase the number of iterations (max_iter) or scale the data as shown in:\n",
      "    https://scikit-learn.org/stable/modules/preprocessing.html\n",
      "Please also refer to the documentation for alternative solver options:\n",
      "    https://scikit-learn.org/stable/modules/linear_model.html#logistic-regression\n",
      "  n_iter_i = _check_optimize_result(\n"
     ]
    },
    {
     "name": "stdout",
     "output_type": "stream",
     "text": [
      "[False  True False False False False  True False False False  True  True\n",
      "  True False False False False  True False False  True False  True False\n",
      "  True  True False False  True False False False  True False  True  True\n",
      " False  True  True False False  True False  True  True  True  True  True\n",
      "  True False  True  True  True  True  True False False False False False\n",
      "  True  True False  True False  True  True False False False False False\n",
      "  True False  True  True  True False  True  True  True  True  True False\n",
      "  True False  True  True  True False False False False  True False  True\n",
      "  True  True  True False  True False  True False  True False False  True\n",
      "  True False False  True  True False False False]\n",
      "[26  1  3 47 13 32  1  7 36 22  1  1  1 45 51 19  4  1 43  5  1 11  1 10\n",
      "  1  1 37 31  1 25 24 39  1 50  1  1 52  1  1 34 46  1 20  1  1  1  1  1\n",
      "  1 54  1  1  1  1  1 59 21 56 49  8  1  1 18  1 38  1  1 16 14 48 12 29\n",
      "  1 44  1  1  1 42  1  1  1  1  1 17  1 58  1  1  1 35 30 41 55  1 28  1\n",
      "  1  1  1  6  1 53  1 23  1  9  2  1  1 27 15  1  1 57 33 40]\n"
     ]
    }
   ],
   "source": [
    "data_final_vars=data_final.columns.values.tolist()\n",
    "y=['Output']\n",
    "X=[i for i in data_final_vars if i not in y]\n",
    "from sklearn.feature_selection import RFE\n",
    "from sklearn.linear_model import LogisticRegression\n",
    "logreg = LogisticRegression()\n",
    "rfe = RFE(logreg)\n",
    "rfe = rfe.fit(X_res, y_res.values.ravel())\n",
    "print(rfe.support_)\n",
    "print(rfe.ranking_)"
   ]
  },
  {
   "cell_type": "code",
   "execution_count": 82,
   "metadata": {},
   "outputs": [
    {
     "data": {
      "text/html": [
       "<div>\n",
       "<style scoped>\n",
       "    .dataframe tbody tr th:only-of-type {\n",
       "        vertical-align: middle;\n",
       "    }\n",
       "\n",
       "    .dataframe tbody tr th {\n",
       "        vertical-align: top;\n",
       "    }\n",
       "\n",
       "    .dataframe thead th {\n",
       "        text-align: right;\n",
       "    }\n",
       "</style>\n",
       "<table border=\"1\" class=\"dataframe\">\n",
       "  <thead>\n",
       "    <tr style=\"text-align: right;\">\n",
       "      <th></th>\n",
       "      <th>Age</th>\n",
       "      <th>Output</th>\n",
       "      <th>Gender_Male</th>\n",
       "      <th>Marital_Status_Prefer not to say</th>\n",
       "      <th>Marital_Status_Single</th>\n",
       "      <th>Occupation_House wife</th>\n",
       "      <th>Occupation_Self Employeed</th>\n",
       "      <th>Occupation_Student</th>\n",
       "      <th>Monthly_Income_25001 to 50000</th>\n",
       "      <th>Monthly_Income_Below Rs.10000</th>\n",
       "      <th>...</th>\n",
       "      <th>Temperature_Unimportant</th>\n",
       "      <th>Temperature_Very Important</th>\n",
       "      <th>Good_Taste_Moderately Important</th>\n",
       "      <th>Good_Taste_Slightly Important</th>\n",
       "      <th>Good_Taste_Unimportant</th>\n",
       "      <th>Good_Taste_Very Important</th>\n",
       "      <th>Good_Quantity_Moderately Important</th>\n",
       "      <th>Good_Quantity_Slightly Important</th>\n",
       "      <th>Good_Quantity_Unimportant</th>\n",
       "      <th>Good_Quantity_Very Important</th>\n",
       "    </tr>\n",
       "  </thead>\n",
       "  <tbody>\n",
       "    <tr>\n",
       "      <th>0</th>\n",
       "      <td>20</td>\n",
       "      <td>1</td>\n",
       "      <td>0</td>\n",
       "      <td>0</td>\n",
       "      <td>1</td>\n",
       "      <td>0</td>\n",
       "      <td>0</td>\n",
       "      <td>1</td>\n",
       "      <td>0</td>\n",
       "      <td>0</td>\n",
       "      <td>...</td>\n",
       "      <td>0</td>\n",
       "      <td>0</td>\n",
       "      <td>1</td>\n",
       "      <td>0</td>\n",
       "      <td>0</td>\n",
       "      <td>0</td>\n",
       "      <td>1</td>\n",
       "      <td>0</td>\n",
       "      <td>0</td>\n",
       "      <td>0</td>\n",
       "    </tr>\n",
       "    <tr>\n",
       "      <th>1</th>\n",
       "      <td>24</td>\n",
       "      <td>1</td>\n",
       "      <td>0</td>\n",
       "      <td>0</td>\n",
       "      <td>1</td>\n",
       "      <td>0</td>\n",
       "      <td>0</td>\n",
       "      <td>1</td>\n",
       "      <td>0</td>\n",
       "      <td>1</td>\n",
       "      <td>...</td>\n",
       "      <td>0</td>\n",
       "      <td>1</td>\n",
       "      <td>0</td>\n",
       "      <td>0</td>\n",
       "      <td>0</td>\n",
       "      <td>1</td>\n",
       "      <td>0</td>\n",
       "      <td>0</td>\n",
       "      <td>0</td>\n",
       "      <td>1</td>\n",
       "    </tr>\n",
       "    <tr>\n",
       "      <th>2</th>\n",
       "      <td>22</td>\n",
       "      <td>1</td>\n",
       "      <td>1</td>\n",
       "      <td>0</td>\n",
       "      <td>1</td>\n",
       "      <td>0</td>\n",
       "      <td>0</td>\n",
       "      <td>1</td>\n",
       "      <td>0</td>\n",
       "      <td>1</td>\n",
       "      <td>...</td>\n",
       "      <td>0</td>\n",
       "      <td>0</td>\n",
       "      <td>0</td>\n",
       "      <td>0</td>\n",
       "      <td>0</td>\n",
       "      <td>1</td>\n",
       "      <td>1</td>\n",
       "      <td>0</td>\n",
       "      <td>0</td>\n",
       "      <td>0</td>\n",
       "    </tr>\n",
       "    <tr>\n",
       "      <th>3</th>\n",
       "      <td>22</td>\n",
       "      <td>1</td>\n",
       "      <td>0</td>\n",
       "      <td>0</td>\n",
       "      <td>1</td>\n",
       "      <td>0</td>\n",
       "      <td>0</td>\n",
       "      <td>1</td>\n",
       "      <td>0</td>\n",
       "      <td>0</td>\n",
       "      <td>...</td>\n",
       "      <td>0</td>\n",
       "      <td>1</td>\n",
       "      <td>0</td>\n",
       "      <td>0</td>\n",
       "      <td>0</td>\n",
       "      <td>1</td>\n",
       "      <td>0</td>\n",
       "      <td>0</td>\n",
       "      <td>0</td>\n",
       "      <td>0</td>\n",
       "    </tr>\n",
       "    <tr>\n",
       "      <th>4</th>\n",
       "      <td>22</td>\n",
       "      <td>1</td>\n",
       "      <td>1</td>\n",
       "      <td>0</td>\n",
       "      <td>1</td>\n",
       "      <td>0</td>\n",
       "      <td>0</td>\n",
       "      <td>1</td>\n",
       "      <td>0</td>\n",
       "      <td>1</td>\n",
       "      <td>...</td>\n",
       "      <td>0</td>\n",
       "      <td>0</td>\n",
       "      <td>0</td>\n",
       "      <td>0</td>\n",
       "      <td>0</td>\n",
       "      <td>1</td>\n",
       "      <td>0</td>\n",
       "      <td>0</td>\n",
       "      <td>0</td>\n",
       "      <td>1</td>\n",
       "    </tr>\n",
       "    <tr>\n",
       "      <th>...</th>\n",
       "      <td>...</td>\n",
       "      <td>...</td>\n",
       "      <td>...</td>\n",
       "      <td>...</td>\n",
       "      <td>...</td>\n",
       "      <td>...</td>\n",
       "      <td>...</td>\n",
       "      <td>...</td>\n",
       "      <td>...</td>\n",
       "      <td>...</td>\n",
       "      <td>...</td>\n",
       "      <td>...</td>\n",
       "      <td>...</td>\n",
       "      <td>...</td>\n",
       "      <td>...</td>\n",
       "      <td>...</td>\n",
       "      <td>...</td>\n",
       "      <td>...</td>\n",
       "      <td>...</td>\n",
       "      <td>...</td>\n",
       "      <td>...</td>\n",
       "    </tr>\n",
       "    <tr>\n",
       "      <th>383</th>\n",
       "      <td>23</td>\n",
       "      <td>1</td>\n",
       "      <td>0</td>\n",
       "      <td>0</td>\n",
       "      <td>1</td>\n",
       "      <td>0</td>\n",
       "      <td>0</td>\n",
       "      <td>1</td>\n",
       "      <td>0</td>\n",
       "      <td>0</td>\n",
       "      <td>...</td>\n",
       "      <td>0</td>\n",
       "      <td>0</td>\n",
       "      <td>0</td>\n",
       "      <td>0</td>\n",
       "      <td>0</td>\n",
       "      <td>0</td>\n",
       "      <td>0</td>\n",
       "      <td>0</td>\n",
       "      <td>0</td>\n",
       "      <td>0</td>\n",
       "    </tr>\n",
       "    <tr>\n",
       "      <th>384</th>\n",
       "      <td>23</td>\n",
       "      <td>1</td>\n",
       "      <td>0</td>\n",
       "      <td>0</td>\n",
       "      <td>1</td>\n",
       "      <td>0</td>\n",
       "      <td>0</td>\n",
       "      <td>1</td>\n",
       "      <td>0</td>\n",
       "      <td>0</td>\n",
       "      <td>...</td>\n",
       "      <td>0</td>\n",
       "      <td>0</td>\n",
       "      <td>0</td>\n",
       "      <td>0</td>\n",
       "      <td>0</td>\n",
       "      <td>1</td>\n",
       "      <td>0</td>\n",
       "      <td>0</td>\n",
       "      <td>0</td>\n",
       "      <td>1</td>\n",
       "    </tr>\n",
       "    <tr>\n",
       "      <th>385</th>\n",
       "      <td>22</td>\n",
       "      <td>1</td>\n",
       "      <td>0</td>\n",
       "      <td>0</td>\n",
       "      <td>1</td>\n",
       "      <td>0</td>\n",
       "      <td>0</td>\n",
       "      <td>1</td>\n",
       "      <td>0</td>\n",
       "      <td>0</td>\n",
       "      <td>...</td>\n",
       "      <td>0</td>\n",
       "      <td>1</td>\n",
       "      <td>0</td>\n",
       "      <td>0</td>\n",
       "      <td>0</td>\n",
       "      <td>1</td>\n",
       "      <td>0</td>\n",
       "      <td>0</td>\n",
       "      <td>0</td>\n",
       "      <td>1</td>\n",
       "    </tr>\n",
       "    <tr>\n",
       "      <th>386</th>\n",
       "      <td>23</td>\n",
       "      <td>1</td>\n",
       "      <td>1</td>\n",
       "      <td>0</td>\n",
       "      <td>1</td>\n",
       "      <td>0</td>\n",
       "      <td>0</td>\n",
       "      <td>1</td>\n",
       "      <td>0</td>\n",
       "      <td>1</td>\n",
       "      <td>...</td>\n",
       "      <td>0</td>\n",
       "      <td>0</td>\n",
       "      <td>0</td>\n",
       "      <td>0</td>\n",
       "      <td>0</td>\n",
       "      <td>1</td>\n",
       "      <td>0</td>\n",
       "      <td>0</td>\n",
       "      <td>0</td>\n",
       "      <td>1</td>\n",
       "    </tr>\n",
       "    <tr>\n",
       "      <th>387</th>\n",
       "      <td>23</td>\n",
       "      <td>1</td>\n",
       "      <td>1</td>\n",
       "      <td>0</td>\n",
       "      <td>1</td>\n",
       "      <td>0</td>\n",
       "      <td>0</td>\n",
       "      <td>1</td>\n",
       "      <td>0</td>\n",
       "      <td>0</td>\n",
       "      <td>...</td>\n",
       "      <td>0</td>\n",
       "      <td>0</td>\n",
       "      <td>1</td>\n",
       "      <td>0</td>\n",
       "      <td>0</td>\n",
       "      <td>0</td>\n",
       "      <td>0</td>\n",
       "      <td>1</td>\n",
       "      <td>0</td>\n",
       "      <td>0</td>\n",
       "    </tr>\n",
       "  </tbody>\n",
       "</table>\n",
       "<p>388 rows × 117 columns</p>\n",
       "</div>"
      ],
      "text/plain": [
       "     Age Output  Gender_Male  Marital_Status_Prefer not to say  \\\n",
       "0     20      1            0                                 0   \n",
       "1     24      1            0                                 0   \n",
       "2     22      1            1                                 0   \n",
       "3     22      1            0                                 0   \n",
       "4     22      1            1                                 0   \n",
       "..   ...    ...          ...                               ...   \n",
       "383   23      1            0                                 0   \n",
       "384   23      1            0                                 0   \n",
       "385   22      1            0                                 0   \n",
       "386   23      1            1                                 0   \n",
       "387   23      1            1                                 0   \n",
       "\n",
       "     Marital_Status_Single  Occupation_House wife  Occupation_Self Employeed  \\\n",
       "0                        1                      0                          0   \n",
       "1                        1                      0                          0   \n",
       "2                        1                      0                          0   \n",
       "3                        1                      0                          0   \n",
       "4                        1                      0                          0   \n",
       "..                     ...                    ...                        ...   \n",
       "383                      1                      0                          0   \n",
       "384                      1                      0                          0   \n",
       "385                      1                      0                          0   \n",
       "386                      1                      0                          0   \n",
       "387                      1                      0                          0   \n",
       "\n",
       "     Occupation_Student  Monthly_Income_25001 to 50000  \\\n",
       "0                     1                              0   \n",
       "1                     1                              0   \n",
       "2                     1                              0   \n",
       "3                     1                              0   \n",
       "4                     1                              0   \n",
       "..                  ...                            ...   \n",
       "383                   1                              0   \n",
       "384                   1                              0   \n",
       "385                   1                              0   \n",
       "386                   1                              0   \n",
       "387                   1                              0   \n",
       "\n",
       "     Monthly_Income_Below Rs.10000  ...  Temperature_Unimportant  \\\n",
       "0                                0  ...                        0   \n",
       "1                                1  ...                        0   \n",
       "2                                1  ...                        0   \n",
       "3                                0  ...                        0   \n",
       "4                                1  ...                        0   \n",
       "..                             ...  ...                      ...   \n",
       "383                              0  ...                        0   \n",
       "384                              0  ...                        0   \n",
       "385                              0  ...                        0   \n",
       "386                              1  ...                        0   \n",
       "387                              0  ...                        0   \n",
       "\n",
       "     Temperature_Very Important  Good_Taste_Moderately Important  \\\n",
       "0                             0                                1   \n",
       "1                             1                                0   \n",
       "2                             0                                0   \n",
       "3                             1                                0   \n",
       "4                             0                                0   \n",
       "..                          ...                              ...   \n",
       "383                           0                                0   \n",
       "384                           0                                0   \n",
       "385                           1                                0   \n",
       "386                           0                                0   \n",
       "387                           0                                1   \n",
       "\n",
       "     Good_Taste_Slightly Important  Good_Taste_Unimportant  \\\n",
       "0                                0                       0   \n",
       "1                                0                       0   \n",
       "2                                0                       0   \n",
       "3                                0                       0   \n",
       "4                                0                       0   \n",
       "..                             ...                     ...   \n",
       "383                              0                       0   \n",
       "384                              0                       0   \n",
       "385                              0                       0   \n",
       "386                              0                       0   \n",
       "387                              0                       0   \n",
       "\n",
       "     Good_Taste_Very Important  Good_Quantity_Moderately Important  \\\n",
       "0                            0                                   1   \n",
       "1                            1                                   0   \n",
       "2                            1                                   1   \n",
       "3                            1                                   0   \n",
       "4                            1                                   0   \n",
       "..                         ...                                 ...   \n",
       "383                          0                                   0   \n",
       "384                          1                                   0   \n",
       "385                          1                                   0   \n",
       "386                          1                                   0   \n",
       "387                          0                                   0   \n",
       "\n",
       "     Good_Quantity_Slightly Important  Good_Quantity_Unimportant  \\\n",
       "0                                   0                          0   \n",
       "1                                   0                          0   \n",
       "2                                   0                          0   \n",
       "3                                   0                          0   \n",
       "4                                   0                          0   \n",
       "..                                ...                        ...   \n",
       "383                                 0                          0   \n",
       "384                                 0                          0   \n",
       "385                                 0                          0   \n",
       "386                                 0                          0   \n",
       "387                                 1                          0   \n",
       "\n",
       "     Good_Quantity_Very Important  \n",
       "0                               0  \n",
       "1                               1  \n",
       "2                               0  \n",
       "3                               0  \n",
       "4                               1  \n",
       "..                            ...  \n",
       "383                             0  \n",
       "384                             1  \n",
       "385                             1  \n",
       "386                             1  \n",
       "387                             0  \n",
       "\n",
       "[388 rows x 117 columns]"
      ]
     },
     "execution_count": 82,
     "metadata": {},
     "output_type": "execute_result"
    }
   ],
   "source": [
    "data_final"
   ]
  },
  {
   "cell_type": "code",
   "execution_count": 83,
   "metadata": {
    "scrolled": true
   },
   "outputs": [
    {
     "data": {
      "text/plain": [
       "['Good_Taste_Unimportant', 'Good_Taste_Very Important']"
      ]
     },
     "execution_count": 83,
     "metadata": {},
     "output_type": "execute_result"
    }
   ],
   "source": [
    "data_final.columns.values.tolist()[111:113]"
   ]
  },
  {
   "cell_type": "code",
   "execution_count": 84,
   "metadata": {},
   "outputs": [],
   "source": [
    "cols=['Occupation_Self Employeed','Monthly_Income_More than 50000','Monthly_Income_No Income','Medium_Food delivery apps','Meal_Snacks',\n",
    "     'Perference_Veg foods (Breakfast / Lunch / Dinner)','Ease_and_convenient_Neutral','Ease_and_convenient_Strongly disagree', 'Time_saving_Disagree',\n",
    "     'Time_saving_Strongly disagree','Easy_Payment_option_Strongly disagree','More_Offers_and_Discount_Neutral', 'More_Offers_and_Discount_Strongly agree',\n",
    "     'Good_Food_quality_Disagree', 'Good_Food_quality_Neutral','Good_Tracking_system_Disagree','Good_Tracking_system_Strongly agree','Good_Tracking_system_Strongly disagree',\n",
    "    'Late_Delivery_Disagree', 'Late_Delivery_Neutral', 'Late_Delivery_Strongly agree', 'Late_Delivery_Strongly disagree',\n",
    "     'Poor_Hygiene_Neutral', 'Poor_Hygiene_Strongly agree', 'Poor_Hygiene_Strongly disagree', 'Bad_past_experience_Disagree', 'Bad_past_experience_Neutral',\n",
    "     'Long_delivery_time_Strongly disagree', 'Delay_in_assigning_delivery_person_Disagree','Delay_in_assigning_delivery_person_Strongly agree',\n",
    "     'Delay_in_picking_up_food_Disagree', 'Delay_in_picking_up_food_Neutral','Wrong_order_delivered_Strongly disagree',\n",
    "     'Missing_item_Neutral', 'Missing_item_Strongly agree', 'Missing_item_Strongly disagree','Order_Time_Weekend (Sat & Sun)',\n",
    "     'Maximum_wait_time_30 minutes', 'Maximum_wait_time_45 minutes', 'Maximum_wait_time_60 minutes', 'Maximum_wait_time_More than 60 minutes',\n",
    "     'Residence_in_busy_location_Neutral','Residence_in_busy_location_Strongly disagree', 'Influence_of_rating_No', 'Influence_of_rating_Yes',\n",
    "     'High_Quality_of_package_Moderately Important','High_Quality_of_package_Unimportant',\n",
    "     'Politeness_Moderately Important', 'Politeness_Slightly Important', 'Politeness_Unimportant', 'Politeness_Very Important',\n",
    "     'Freshness_Slightly Important','Freshness_Very Important','Temperature_Unimportant', 'Temperature_Very Important',\n",
    "     'Good_Taste_Unimportant', 'Good_Taste_Very Important']\n",
    "\n",
    "X=X_res[cols]\n",
    "y=y_res\n",
    "\n",
    "X_test_rfe=X_test[cols]"
   ]
  },
  {
   "cell_type": "code",
   "execution_count": 85,
   "metadata": {},
   "outputs": [
    {
     "data": {
      "text/plain": [
       "((315, 57), (315,), (117, 57), (117,))"
      ]
     },
     "execution_count": 85,
     "metadata": {},
     "output_type": "execute_result"
    }
   ],
   "source": [
    "X.shape,y.shape,X_test_rfe.shape,y_test.shape"
   ]
  },
  {
   "cell_type": "code",
   "execution_count": null,
   "metadata": {},
   "outputs": [],
   "source": []
  },
  {
   "cell_type": "code",
   "execution_count": 86,
   "metadata": {},
   "outputs": [
    {
     "data": {
      "text/plain": [
       "LogisticRegression(class_weight='balanced', max_iter=1000, random_state=10)"
      ]
     },
     "execution_count": 86,
     "metadata": {},
     "output_type": "execute_result"
    }
   ],
   "source": [
    "model = LogisticRegression(random_state = 10, class_weight='balanced', max_iter = 1000)\n",
    "#model = LogisticRegression(random_state = 10, max_iter = 1000)\n",
    "model.fit(X,y)"
   ]
  },
  {
   "cell_type": "code",
   "execution_count": 87,
   "metadata": {},
   "outputs": [
    {
     "data": {
      "text/plain": [
       "array([[0.09414073, 0.90585927],\n",
       "       [0.06211192, 0.93788808],\n",
       "       [0.94095957, 0.05904043],\n",
       "       [0.22563586, 0.77436414],\n",
       "       [0.06211192, 0.93788808],\n",
       "       [0.26863973, 0.73136027],\n",
       "       [0.02354026, 0.97645974],\n",
       "       [0.08194528, 0.91805472],\n",
       "       [0.39763412, 0.60236588],\n",
       "       [0.21909472, 0.78090528],\n",
       "       [0.15268952, 0.84731048],\n",
       "       [0.09206673, 0.90793327],\n",
       "       [0.02277737, 0.97722263],\n",
       "       [0.00612408, 0.99387592],\n",
       "       [0.05290672, 0.94709328],\n",
       "       [0.03927835, 0.96072165],\n",
       "       [0.30194051, 0.69805949],\n",
       "       [0.12394904, 0.87605096],\n",
       "       [0.05431994, 0.94568006],\n",
       "       [0.94858696, 0.05141304],\n",
       "       [0.01398844, 0.98601156],\n",
       "       [0.76014727, 0.23985273],\n",
       "       [0.95827741, 0.04172259],\n",
       "       [0.256762  , 0.743238  ],\n",
       "       [0.29781778, 0.70218222],\n",
       "       [0.00563222, 0.99436778],\n",
       "       [0.9759919 , 0.0240081 ],\n",
       "       [0.15209564, 0.84790436],\n",
       "       [0.00531138, 0.99468862],\n",
       "       [0.00450484, 0.99549516],\n",
       "       [0.91431982, 0.08568018],\n",
       "       [0.16511611, 0.83488389],\n",
       "       [0.38742699, 0.61257301],\n",
       "       [0.04839742, 0.95160258],\n",
       "       [0.06101104, 0.93898896],\n",
       "       [0.07000526, 0.92999474],\n",
       "       [0.07165403, 0.92834597],\n",
       "       [0.29331236, 0.70668764],\n",
       "       [0.05282604, 0.94717396],\n",
       "       [0.03362952, 0.96637048],\n",
       "       [0.0605679 , 0.9394321 ],\n",
       "       [0.61174505, 0.38825495],\n",
       "       [0.91200009, 0.08799991],\n",
       "       [0.00907326, 0.99092674],\n",
       "       [0.86522872, 0.13477128],\n",
       "       [0.23735033, 0.76264967],\n",
       "       [0.2048134 , 0.7951866 ],\n",
       "       [0.10821793, 0.89178207],\n",
       "       [0.1085177 , 0.8914823 ],\n",
       "       [0.00786035, 0.99213965],\n",
       "       [0.00620146, 0.99379854],\n",
       "       [0.45125818, 0.54874182],\n",
       "       [0.49043444, 0.50956556],\n",
       "       [0.02561378, 0.97438622],\n",
       "       [0.77045362, 0.22954638],\n",
       "       [0.04128963, 0.95871037],\n",
       "       [0.8772165 , 0.1227835 ],\n",
       "       [0.38453409, 0.61546591],\n",
       "       [0.22939393, 0.77060607],\n",
       "       [0.05431994, 0.94568006],\n",
       "       [0.00531138, 0.99468862],\n",
       "       [0.09766654, 0.90233346],\n",
       "       [0.04864345, 0.95135655],\n",
       "       [0.89735809, 0.10264191],\n",
       "       [0.22563586, 0.77436414],\n",
       "       [0.31040316, 0.68959684],\n",
       "       [0.99312494, 0.00687506],\n",
       "       [0.01699529, 0.98300471],\n",
       "       [0.00746228, 0.99253772],\n",
       "       [0.00746228, 0.99253772],\n",
       "       [0.0605679 , 0.9394321 ],\n",
       "       [0.10765662, 0.89234338],\n",
       "       [0.22399136, 0.77600864],\n",
       "       [0.01424146, 0.98575854],\n",
       "       [0.08121311, 0.91878689],\n",
       "       [0.22994107, 0.77005893],\n",
       "       [0.99437953, 0.00562047],\n",
       "       [0.25481012, 0.74518988],\n",
       "       [0.07062644, 0.92937356],\n",
       "       [0.01970463, 0.98029537],\n",
       "       [0.00524475, 0.99475525],\n",
       "       [0.00455108, 0.99544892],\n",
       "       [0.46699712, 0.53300288],\n",
       "       [0.9746979 , 0.0253021 ],\n",
       "       [0.00260389, 0.99739611],\n",
       "       [0.08194528, 0.91805472],\n",
       "       [0.16929277, 0.83070723],\n",
       "       [0.19602868, 0.80397132],\n",
       "       [0.99270391, 0.00729609],\n",
       "       [0.01338444, 0.98661556],\n",
       "       [0.38742699, 0.61257301],\n",
       "       [0.11043713, 0.88956287],\n",
       "       [0.07618122, 0.92381878],\n",
       "       [0.11942287, 0.88057713],\n",
       "       [0.06351966, 0.93648034],\n",
       "       [0.0605679 , 0.9394321 ],\n",
       "       [0.00940082, 0.99059918],\n",
       "       [0.00373705, 0.99626295],\n",
       "       [0.19626627, 0.80373373],\n",
       "       [0.16511611, 0.83488389],\n",
       "       [0.00596579, 0.99403421],\n",
       "       [0.78909265, 0.21090735],\n",
       "       [0.01466775, 0.98533225],\n",
       "       [0.10087218, 0.89912782],\n",
       "       [0.4053008 , 0.5946992 ],\n",
       "       [0.00457752, 0.99542248],\n",
       "       [0.0043431 , 0.9956569 ],\n",
       "       [0.81215007, 0.18784993],\n",
       "       [0.17428842, 0.82571158],\n",
       "       [0.92202382, 0.07797618],\n",
       "       [0.25481012, 0.74518988],\n",
       "       [0.63275644, 0.36724356],\n",
       "       [0.38753201, 0.61246799],\n",
       "       [0.00455108, 0.99544892],\n",
       "       [0.88879681, 0.11120319],\n",
       "       [0.01459374, 0.98540626],\n",
       "       [0.02246544, 0.97753456]])"
      ]
     },
     "execution_count": 87,
     "metadata": {},
     "output_type": "execute_result"
    }
   ],
   "source": [
    "model.predict_proba(X_test_rfe)"
   ]
  },
  {
   "cell_type": "code",
   "execution_count": 88,
   "metadata": {},
   "outputs": [
    {
     "data": {
      "text/plain": [
       "array([1, 1, 0, 1, 1, 1, 1, 1, 1, 1, 1, 1, 1, 1, 1, 1, 1, 1, 1, 0, 1, 0,\n",
       "       0, 1, 1, 1, 0, 1, 1, 1, 0, 1, 1, 1, 1, 1, 1, 1, 1, 1, 1, 0, 0, 1,\n",
       "       0, 1, 1, 1, 1, 1, 1, 1, 1, 1, 0, 1, 0, 1, 1, 1, 1, 1, 1, 0, 1, 1,\n",
       "       0, 1, 1, 1, 1, 1, 1, 1, 1, 1, 0, 1, 1, 1, 1, 1, 1, 0, 1, 1, 1, 1,\n",
       "       0, 1, 1, 1, 1, 1, 1, 1, 1, 1, 1, 1, 1, 0, 1, 1, 1, 1, 1, 0, 1, 0,\n",
       "       1, 0, 1, 1, 0, 1, 1], dtype=int64)"
      ]
     },
     "execution_count": 88,
     "metadata": {},
     "output_type": "execute_result"
    }
   ],
   "source": [
    "model.predict(X_test_rfe)"
   ]
  },
  {
   "cell_type": "code",
   "execution_count": 89,
   "metadata": {},
   "outputs": [
    {
     "name": "stdout",
     "output_type": "stream",
     "text": [
      "classes:  [0 1]\n",
      "coefficients:  [[ 0.03582462  0.09083042  0.89126999 -1.0603262   0.73760725 -0.94821925\n",
      "   0.41035934  0.6644457  -1.99859234 -0.04602216 -0.51387171 -0.13406312\n",
      "   1.69709469 -0.5720405   1.20501184 -0.30164164 -0.02285517 -1.32589294\n",
      "   1.63511358  1.12980235 -0.20568075  1.34100287 -0.50396907  0.53141581\n",
      "   0.079463    0.53746077  1.09847958  0.56318468  0.78924429  0.60740204\n",
      "   0.03915829  0.38533896  0.24873357 -0.39158982  0.38594861  0.35800743\n",
      "   0.0936979   1.13707111  1.44407772  0.83126656  1.13151171  0.14517347\n",
      "  -0.09229547  0.80295788  1.41876408 -0.12388887  0.23358143  0.93004641\n",
      "   0.80521249  0.62566913 -0.51351975  0.04529729  0.28076877  0.35880879\n",
      "  -0.91543815  0.3458263   0.59247086]]\n",
      "intercept : [-2.1277935]\n"
     ]
    }
   ],
   "source": [
    "print('classes: ',model.classes_)\n",
    "print('coefficients: ',model.coef_)\n",
    "print('intercept :',model.intercept_)"
   ]
  },
  {
   "cell_type": "code",
   "execution_count": 90,
   "metadata": {},
   "outputs": [],
   "source": [
    "from sklearn.model_selection import train_test_split\n",
    "from sklearn.linear_model import LogisticRegression\n",
    "from sklearn.metrics import confusion_matrix, roc_curve, roc_auc_score, auc, classification_report"
   ]
  },
  {
   "cell_type": "code",
   "execution_count": 91,
   "metadata": {},
   "outputs": [
    {
     "name": "stdout",
     "output_type": "stream",
     "text": [
      "[[85  6]\n",
      " [11 15]]\n"
     ]
    }
   ],
   "source": [
    "pred = model.predict(X_test_rfe)\n",
    "labels = [1, 0]\n",
    "con_mat = confusion_matrix(y_test, pred, labels = labels )\n",
    "print(con_mat)"
   ]
  },
  {
   "cell_type": "code",
   "execution_count": 92,
   "metadata": {},
   "outputs": [
    {
     "name": "stdout",
     "output_type": "stream",
     "text": [
      "Accuracy =  0.8547008547008547\n",
      "Model Score =  0.8547008547008547\n"
     ]
    },
    {
     "data": {
      "text/plain": [
       "0.8547008547008547"
      ]
     },
     "execution_count": 92,
     "metadata": {},
     "output_type": "execute_result"
    }
   ],
   "source": [
    "accuracy=(con_mat[0,0] + con_mat[1,1])/y_test.size\n",
    "print(\"Accuracy = \",accuracy)\n",
    "print(\"Model Score = \",model.score(X_test_rfe, y_test))\n",
    "np.mean(y_test == pred)"
   ]
  },
  {
   "cell_type": "code",
   "execution_count": 93,
   "metadata": {},
   "outputs": [
    {
     "data": {
      "image/png": "[encoded data removed]",
      "text/plain": [
       "<Figure size 432x288 with 1 Axes>"
      ]
     },
     "metadata": {
      "needs_background": "light"
     },
     "output_type": "display_data"
    }
   ],
   "source": [
    "##Computing false and true positive rates\n",
    "#fpr, tpr, threshold = roc_curve(y_test,result.predict_proba(X_test)[:,1],drop_intermediate=False)\n",
    "probs = model.predict_proba(X_test_rfe)\n",
    "preds = probs[:,1]\n",
    "fpr, tpr, threshold = roc_curve(y_test, preds, drop_intermediate=False)\n",
    "roc_auc = auc(fpr, tpr)\n",
    "plt.figure()\n",
    "##Adding the ROC\n",
    "plt.plot(fpr, tpr, 'r', label = 'AUC = %0.2f' % roc_auc)\n",
    "##Random FPR and TPR\n",
    "plt.plot([0, 1], [0, 1], color='blue', lw=2, linestyle='--')\n",
    "##Title and label\n",
    "plt.legend(loc = 'lower right')\n",
    "plt.xlabel('FPR')\n",
    "plt.ylabel('TPR')\n",
    "plt.title('ROC curve')\n",
    "plt.show()"
   ]
  },
  {
   "cell_type": "code",
   "execution_count": 94,
   "metadata": {},
   "outputs": [
    {
     "data": {
      "text/plain": [
       "0.8588334742180896"
      ]
     },
     "execution_count": 94,
     "metadata": {},
     "output_type": "execute_result"
    }
   ],
   "source": [
    "roc_auc_score(y_test, preds)"
   ]
  },
  {
   "cell_type": "code",
   "execution_count": 95,
   "metadata": {},
   "outputs": [
    {
     "name": "stdout",
     "output_type": "stream",
     "text": [
      "0.8588334742180896\n",
      "0.8588334742180896\n"
     ]
    }
   ],
   "source": [
    "print(roc_auc_score(y_test, preds))\n",
    "print(auc(fpr, tpr))"
   ]
  },
  {
   "cell_type": "code",
   "execution_count": 96,
   "metadata": {},
   "outputs": [
    {
     "name": "stdout",
     "output_type": "stream",
     "text": [
      "Report : \n",
      "              precision    recall  f1-score   support\n",
      "\n",
      "           0       0.71      0.58      0.64        26\n",
      "           1       0.89      0.93      0.91        91\n",
      "\n",
      "    accuracy                           0.85       117\n",
      "   macro avg       0.80      0.76      0.77       117\n",
      "weighted avg       0.85      0.85      0.85       117\n",
      "\n"
     ]
    }
   ],
   "source": [
    "actual = y_test\n",
    "predicted = pred\n",
    "#results = confusion_matrix(actual, predicted) \n",
    "#print('Confusion Matrix :')\n",
    "#print(results) \n",
    "#print ('Accuracy Score :',accuracy_score(actual, predicted)) \n",
    "print ('Report : ')\n",
    "print (classification_report(actual, predicted))"
   ]
  },
  {
   "cell_type": "code",
   "execution_count": 97,
   "metadata": {},
   "outputs": [
    {
     "data": {
      "text/plain": [
       "[<matplotlib.lines.Line2D at 0x1ee27f30400>]"
      ]
     },
     "execution_count": 97,
     "metadata": {},
     "output_type": "execute_result"
    },
    {
     "data": {
      "image/png": "[encoded data removed]",
      "text/plain": [
       "<Figure size 432x288 with 1 Axes>"
      ]
     },
     "metadata": {
      "needs_background": "light"
     },
     "output_type": "display_data"
    }
   ],
   "source": [
    "plt.plot(threshold,fpr)"
   ]
  },
  {
   "cell_type": "code",
   "execution_count": 98,
   "metadata": {},
   "outputs": [
    {
     "data": {
      "text/plain": [
       "[<matplotlib.lines.Line2D at 0x1ee28573160>]"
      ]
     },
     "execution_count": 98,
     "metadata": {},
     "output_type": "execute_result"
    },
    {
     "data": {
      "image/png": "[encoded data removed]",
      "text/plain": [
       "<Figure size 432x288 with 1 Axes>"
      ]
     },
     "metadata": {
      "needs_background": "light"
     },
     "output_type": "display_data"
    }
   ],
   "source": [
    "plt.plot(threshold,tpr)"
   ]
  },
  {
   "cell_type": "code",
   "execution_count": 99,
   "metadata": {},
   "outputs": [],
   "source": [
    "from sklearn.metrics import precision_recall_curve\n",
    "probs = model.predict_proba(X_test_rfe)\n",
    "preds = probs[:,1]\n",
    "precision, recall, threshold = precision_recall_curve(y_test, preds)"
   ]
  },
  {
   "cell_type": "code",
   "execution_count": 100,
   "metadata": {},
   "outputs": [
    {
     "data": {
      "text/plain": [
       "(0.0, 1.0)"
      ]
     },
     "execution_count": 100,
     "metadata": {},
     "output_type": "execute_result"
    },
    {
     "data": {
      "image/png": "[encoded data removed]",
      "text/plain": [
       "<Figure size 432x288 with 1 Axes>"
      ]
     },
     "metadata": {
      "needs_background": "light"
     },
     "output_type": "display_data"
    }
   ],
   "source": [
    "plt.title(\"Precision-Recall vs Threshold Chart\")\n",
    "plt.plot(threshold, precision[: -1], \"b--\", label=\"Precision\")\n",
    "plt.plot(threshold, recall[: -1], \"r--\", label=\"Recall\")\n",
    "plt.ylabel(\"Precision, Recall\")\n",
    "plt.xlabel(\"Threshold\")\n",
    "plt.legend(loc=\"best\")\n",
    "plt.ylim([0,1]) "
   ]
  },
  {
   "cell_type": "code",
   "execution_count": 101,
   "metadata": {},
   "outputs": [],
   "source": [
    "threshold = 0.6\n",
    "pred2 = np.where(model.predict_proba(X_test_rfe)[:,1] >= threshold, 1, 0)"
   ]
  },
  {
   "cell_type": "code",
   "execution_count": 102,
   "metadata": {},
   "outputs": [
    {
     "name": "stdout",
     "output_type": "stream",
     "text": [
      "[[83  8]\n",
      " [ 9 17]]\n"
     ]
    }
   ],
   "source": [
    "labels = [1, 0]\n",
    "con_mat2 = confusion_matrix(y_test, pred2, labels = labels )\n",
    "print(con_mat2)"
   ]
  },
  {
   "cell_type": "code",
   "execution_count": 103,
   "metadata": {},
   "outputs": [
    {
     "name": "stdout",
     "output_type": "stream",
     "text": [
      "Accuracy =  0.8547008547008547\n",
      "Model Score =  0.8547008547008547\n"
     ]
    },
    {
     "data": {
      "text/plain": [
       "0.8547008547008547"
      ]
     },
     "execution_count": 103,
     "metadata": {},
     "output_type": "execute_result"
    }
   ],
   "source": [
    "accuracy2=(con_mat2[0,0] + con_mat2[1,1])/y_test.size\n",
    "print(\"Accuracy = \",accuracy2)\n",
    "print(\"Model Score = \",model.score(X_test_rfe, y_test))\n",
    "np.mean(y_test == pred2)"
   ]
  },
  {
   "cell_type": "code",
   "execution_count": 104,
   "metadata": {},
   "outputs": [
    {
     "name": "stdout",
     "output_type": "stream",
     "text": [
      "Report : \n",
      "              precision    recall  f1-score   support\n",
      "\n",
      "           0       0.68      0.65      0.67        26\n",
      "           1       0.90      0.91      0.91        91\n",
      "\n",
      "    accuracy                           0.85       117\n",
      "   macro avg       0.79      0.78      0.79       117\n",
      "weighted avg       0.85      0.85      0.85       117\n",
      "\n"
     ]
    }
   ],
   "source": [
    "actual = y_test\n",
    "predicted = pred2\n",
    "#results = confusion_matrix(actual, predicted) \n",
    "#print('Confusion Matrix :')\n",
    "#print(results) \n",
    "#print ('Accuracy Score :',accuracy_score(actual, predicted)) \n",
    "print ('Report : ')\n",
    "print (classification_report(actual, predicted))"
   ]
  },
  {
   "cell_type": "code",
   "execution_count": 105,
   "metadata": {},
   "outputs": [
    {
     "data": {
      "image/png": "[encoded data removed]",
      "text/plain": [
       "<Figure size 432x288 with 1 Axes>"
      ]
     },
     "metadata": {
      "needs_background": "light"
     },
     "output_type": "display_data"
    }
   ],
   "source": [
    "##Computing false and true positive rates\n",
    "#fpr, tpr, threshold = roc_curve(y_test,result.predict_proba(X_test)[:,1],drop_intermediate=False)\n",
    "probs2 = model.predict_proba(X_test_rfe)\n",
    "preds2 = probs[:,1]\n",
    "fpr2, tpr2, threshold2 = roc_curve(y_test, pred2, drop_intermediate=False)\n",
    "roc_auc2 = auc(fpr2, tpr2)\n",
    "plt.figure()\n",
    "##Adding the ROC\n",
    "plt.plot(fpr2, tpr2, 'r', label = 'AUC = %0.2f' % roc_auc2)\n",
    "##Random FPR and TPR\n",
    "plt.plot([0, 1], [0, 1], color='blue', lw=2, linestyle='--')\n",
    "##Title and label\n",
    "plt.legend(loc = 'lower right')\n",
    "plt.xlabel('FPR')\n",
    "plt.ylabel('TPR')\n",
    "plt.title('ROC curve')\n",
    "plt.show()"
   ]
  },
  {
   "cell_type": "code",
   "execution_count": 106,
   "metadata": {},
   "outputs": [
    {
     "name": "stdout",
     "output_type": "stream",
     "text": [
      "0.7829670329670328\n",
      "0.7829670329670328\n"
     ]
    }
   ],
   "source": [
    "print(roc_auc_score(y_test, pred2))\n",
    "print(auc(fpr2, tpr2))"
   ]
  },
  {
   "cell_type": "code",
   "execution_count": null,
   "metadata": {},
   "outputs": [],
   "source": []
  },
  {
   "cell_type": "code",
   "execution_count": 107,
   "metadata": {},
   "outputs": [],
   "source": [
    "from sklearn.model_selection import GridSearchCV"
   ]
  },
  {
   "cell_type": "code",
   "execution_count": 108,
   "metadata": {},
   "outputs": [],
   "source": [
    "param_grid = { 'C': [0.001, 0.01, 0.1, 1, 10, 100, 1000] }\n",
    "clf = GridSearchCV(LogisticRegression(penalty='l2'),  param_grid)"
   ]
  },
  {
   "cell_type": "code",
   "execution_count": 109,
   "metadata": {},
   "outputs": [
    {
     "name": "stderr",
     "output_type": "stream",
     "text": [
      "C:\\Users\\mahesh\\anaconda3\\lib\\site-packages\\sklearn\\linear_model\\_logistic.py:763: ConvergenceWarning: lbfgs failed to converge (status=1):\n",
      "STOP: TOTAL NO. of ITERATIONS REACHED LIMIT.\n",
      "\n",
      "Increase the number of iterations (max_iter) or scale the data as shown in:\n",
      "    https://scikit-learn.org/stable/modules/preprocessing.html\n",
      "Please also refer to the documentation for alternative solver options:\n",
      "    https://scikit-learn.org/stable/modules/linear_model.html#logistic-regression\n",
      "  n_iter_i = _check_optimize_result(\n",
      "C:\\Users\\mahesh\\anaconda3\\lib\\site-packages\\sklearn\\linear_model\\_logistic.py:763: ConvergenceWarning: lbfgs failed to converge (status=1):\n",
      "STOP: TOTAL NO. of ITERATIONS REACHED LIMIT.\n",
      "\n",
      "Increase the number of iterations (max_iter) or scale the data as shown in:\n",
      "    https://scikit-learn.org/stable/modules/preprocessing.html\n",
      "Please also refer to the documentation for alternative solver options:\n",
      "    https://scikit-learn.org/stable/modules/linear_model.html#logistic-regression\n",
      "  n_iter_i = _check_optimize_result(\n",
      "C:\\Users\\mahesh\\anaconda3\\lib\\site-packages\\sklearn\\linear_model\\_logistic.py:763: ConvergenceWarning: lbfgs failed to converge (status=1):\n",
      "STOP: TOTAL NO. of ITERATIONS REACHED LIMIT.\n",
      "\n",
      "Increase the number of iterations (max_iter) or scale the data as shown in:\n",
      "    https://scikit-learn.org/stable/modules/preprocessing.html\n",
      "Please also refer to the documentation for alternative solver options:\n",
      "    https://scikit-learn.org/stable/modules/linear_model.html#logistic-regression\n",
      "  n_iter_i = _check_optimize_result(\n",
      "C:\\Users\\mahesh\\anaconda3\\lib\\site-packages\\sklearn\\linear_model\\_logistic.py:763: ConvergenceWarning: lbfgs failed to converge (status=1):\n",
      "STOP: TOTAL NO. of ITERATIONS REACHED LIMIT.\n",
      "\n",
      "Increase the number of iterations (max_iter) or scale the data as shown in:\n",
      "    https://scikit-learn.org/stable/modules/preprocessing.html\n",
      "Please also refer to the documentation for alternative solver options:\n",
      "    https://scikit-learn.org/stable/modules/linear_model.html#logistic-regression\n",
      "  n_iter_i = _check_optimize_result(\n",
      "C:\\Users\\mahesh\\anaconda3\\lib\\site-packages\\sklearn\\linear_model\\_logistic.py:763: ConvergenceWarning: lbfgs failed to converge (status=1):\n",
      "STOP: TOTAL NO. of ITERATIONS REACHED LIMIT.\n",
      "\n",
      "Increase the number of iterations (max_iter) or scale the data as shown in:\n",
      "    https://scikit-learn.org/stable/modules/preprocessing.html\n",
      "Please also refer to the documentation for alternative solver options:\n",
      "    https://scikit-learn.org/stable/modules/linear_model.html#logistic-regression\n",
      "  n_iter_i = _check_optimize_result(\n",
      "C:\\Users\\mahesh\\anaconda3\\lib\\site-packages\\sklearn\\linear_model\\_logistic.py:763: ConvergenceWarning: lbfgs failed to converge (status=1):\n",
      "STOP: TOTAL NO. of ITERATIONS REACHED LIMIT.\n",
      "\n",
      "Increase the number of iterations (max_iter) or scale the data as shown in:\n",
      "    https://scikit-learn.org/stable/modules/preprocessing.html\n",
      "Please also refer to the documentation for alternative solver options:\n",
      "    https://scikit-learn.org/stable/modules/linear_model.html#logistic-regression\n",
      "  n_iter_i = _check_optimize_result(\n",
      "C:\\Users\\mahesh\\anaconda3\\lib\\site-packages\\sklearn\\linear_model\\_logistic.py:763: ConvergenceWarning: lbfgs failed to converge (status=1):\n",
      "STOP: TOTAL NO. of ITERATIONS REACHED LIMIT.\n",
      "\n",
      "Increase the number of iterations (max_iter) or scale the data as shown in:\n",
      "    https://scikit-learn.org/stable/modules/preprocessing.html\n",
      "Please also refer to the documentation for alternative solver options:\n",
      "    https://scikit-learn.org/stable/modules/linear_model.html#logistic-regression\n",
      "  n_iter_i = _check_optimize_result(\n",
      "C:\\Users\\mahesh\\anaconda3\\lib\\site-packages\\sklearn\\linear_model\\_logistic.py:763: ConvergenceWarning: lbfgs failed to converge (status=1):\n",
      "STOP: TOTAL NO. of ITERATIONS REACHED LIMIT.\n",
      "\n",
      "Increase the number of iterations (max_iter) or scale the data as shown in:\n",
      "    https://scikit-learn.org/stable/modules/preprocessing.html\n",
      "Please also refer to the documentation for alternative solver options:\n",
      "    https://scikit-learn.org/stable/modules/linear_model.html#logistic-regression\n",
      "  n_iter_i = _check_optimize_result(\n",
      "C:\\Users\\mahesh\\anaconda3\\lib\\site-packages\\sklearn\\linear_model\\_logistic.py:763: ConvergenceWarning: lbfgs failed to converge (status=1):\n",
      "STOP: TOTAL NO. of ITERATIONS REACHED LIMIT.\n",
      "\n",
      "Increase the number of iterations (max_iter) or scale the data as shown in:\n",
      "    https://scikit-learn.org/stable/modules/preprocessing.html\n",
      "Please also refer to the documentation for alternative solver options:\n",
      "    https://scikit-learn.org/stable/modules/linear_model.html#logistic-regression\n",
      "  n_iter_i = _check_optimize_result(\n"
     ]
    },
    {
     "data": {
      "text/plain": [
       "GridSearchCV(estimator=LogisticRegression(),\n",
       "             param_grid={'C': [0.001, 0.01, 0.1, 1, 10, 100, 1000]})"
      ]
     },
     "execution_count": 109,
     "metadata": {},
     "output_type": "execute_result"
    }
   ],
   "source": [
    "clf.fit(X, y)"
   ]
  },
  {
   "cell_type": "code",
   "execution_count": 110,
   "metadata": {},
   "outputs": [
    {
     "data": {
      "text/plain": [
       "0.9111111111111111"
      ]
     },
     "execution_count": 110,
     "metadata": {},
     "output_type": "execute_result"
    }
   ],
   "source": [
    "clf.best_score_"
   ]
  },
  {
   "cell_type": "code",
   "execution_count": 111,
   "metadata": {},
   "outputs": [
    {
     "data": {
      "text/plain": [
       "LogisticRegression(C=1)"
      ]
     },
     "execution_count": 111,
     "metadata": {},
     "output_type": "execute_result"
    }
   ],
   "source": [
    "clf.best_estimator_"
   ]
  },
  {
   "cell_type": "code",
   "execution_count": 112,
   "metadata": {},
   "outputs": [
    {
     "data": {
      "text/plain": [
       "LogisticRegression(C=1, class_weight='balanced', max_iter=1000, random_state=10)"
      ]
     },
     "execution_count": 112,
     "metadata": {},
     "output_type": "execute_result"
    }
   ],
   "source": [
    "modelcv = LogisticRegression(C = 1, random_state = 10, class_weight='balanced', max_iter = 1000)\n",
    "modelcv.fit(X,y)"
   ]
  },
  {
   "cell_type": "code",
   "execution_count": 113,
   "metadata": {},
   "outputs": [
    {
     "data": {
      "text/plain": [
       "array([[0.09414073, 0.90585927],\n",
       "       [0.06211192, 0.93788808],\n",
       "       [0.94095957, 0.05904043],\n",
       "       [0.22563586, 0.77436414],\n",
       "       [0.06211192, 0.93788808],\n",
       "       [0.26863973, 0.73136027],\n",
       "       [0.02354026, 0.97645974],\n",
       "       [0.08194528, 0.91805472],\n",
       "       [0.39763412, 0.60236588],\n",
       "       [0.21909472, 0.78090528],\n",
       "       [0.15268952, 0.84731048],\n",
       "       [0.09206673, 0.90793327],\n",
       "       [0.02277737, 0.97722263],\n",
       "       [0.00612408, 0.99387592],\n",
       "       [0.05290672, 0.94709328],\n",
       "       [0.03927835, 0.96072165],\n",
       "       [0.30194051, 0.69805949],\n",
       "       [0.12394904, 0.87605096],\n",
       "       [0.05431994, 0.94568006],\n",
       "       [0.94858696, 0.05141304],\n",
       "       [0.01398844, 0.98601156],\n",
       "       [0.76014727, 0.23985273],\n",
       "       [0.95827741, 0.04172259],\n",
       "       [0.256762  , 0.743238  ],\n",
       "       [0.29781778, 0.70218222],\n",
       "       [0.00563222, 0.99436778],\n",
       "       [0.9759919 , 0.0240081 ],\n",
       "       [0.15209564, 0.84790436],\n",
       "       [0.00531138, 0.99468862],\n",
       "       [0.00450484, 0.99549516],\n",
       "       [0.91431982, 0.08568018],\n",
       "       [0.16511611, 0.83488389],\n",
       "       [0.38742699, 0.61257301],\n",
       "       [0.04839742, 0.95160258],\n",
       "       [0.06101104, 0.93898896],\n",
       "       [0.07000526, 0.92999474],\n",
       "       [0.07165403, 0.92834597],\n",
       "       [0.29331236, 0.70668764],\n",
       "       [0.05282604, 0.94717396],\n",
       "       [0.03362952, 0.96637048],\n",
       "       [0.0605679 , 0.9394321 ],\n",
       "       [0.61174505, 0.38825495],\n",
       "       [0.91200009, 0.08799991],\n",
       "       [0.00907326, 0.99092674],\n",
       "       [0.86522872, 0.13477128],\n",
       "       [0.23735033, 0.76264967],\n",
       "       [0.2048134 , 0.7951866 ],\n",
       "       [0.10821793, 0.89178207],\n",
       "       [0.1085177 , 0.8914823 ],\n",
       "       [0.00786035, 0.99213965],\n",
       "       [0.00620146, 0.99379854],\n",
       "       [0.45125818, 0.54874182],\n",
       "       [0.49043444, 0.50956556],\n",
       "       [0.02561378, 0.97438622],\n",
       "       [0.77045362, 0.22954638],\n",
       "       [0.04128963, 0.95871037],\n",
       "       [0.8772165 , 0.1227835 ],\n",
       "       [0.38453409, 0.61546591],\n",
       "       [0.22939393, 0.77060607],\n",
       "       [0.05431994, 0.94568006],\n",
       "       [0.00531138, 0.99468862],\n",
       "       [0.09766654, 0.90233346],\n",
       "       [0.04864345, 0.95135655],\n",
       "       [0.89735809, 0.10264191],\n",
       "       [0.22563586, 0.77436414],\n",
       "       [0.31040316, 0.68959684],\n",
       "       [0.99312494, 0.00687506],\n",
       "       [0.01699529, 0.98300471],\n",
       "       [0.00746228, 0.99253772],\n",
       "       [0.00746228, 0.99253772],\n",
       "       [0.0605679 , 0.9394321 ],\n",
       "       [0.10765662, 0.89234338],\n",
       "       [0.22399136, 0.77600864],\n",
       "       [0.01424146, 0.98575854],\n",
       "       [0.08121311, 0.91878689],\n",
       "       [0.22994107, 0.77005893],\n",
       "       [0.99437953, 0.00562047],\n",
       "       [0.25481012, 0.74518988],\n",
       "       [0.07062644, 0.92937356],\n",
       "       [0.01970463, 0.98029537],\n",
       "       [0.00524475, 0.99475525],\n",
       "       [0.00455108, 0.99544892],\n",
       "       [0.46699712, 0.53300288],\n",
       "       [0.9746979 , 0.0253021 ],\n",
       "       [0.00260389, 0.99739611],\n",
       "       [0.08194528, 0.91805472],\n",
       "       [0.16929277, 0.83070723],\n",
       "       [0.19602868, 0.80397132],\n",
       "       [0.99270391, 0.00729609],\n",
       "       [0.01338444, 0.98661556],\n",
       "       [0.38742699, 0.61257301],\n",
       "       [0.11043713, 0.88956287],\n",
       "       [0.07618122, 0.92381878],\n",
       "       [0.11942287, 0.88057713],\n",
       "       [0.06351966, 0.93648034],\n",
       "       [0.0605679 , 0.9394321 ],\n",
       "       [0.00940082, 0.99059918],\n",
       "       [0.00373705, 0.99626295],\n",
       "       [0.19626627, 0.80373373],\n",
       "       [0.16511611, 0.83488389],\n",
       "       [0.00596579, 0.99403421],\n",
       "       [0.78909265, 0.21090735],\n",
       "       [0.01466775, 0.98533225],\n",
       "       [0.10087218, 0.89912782],\n",
       "       [0.4053008 , 0.5946992 ],\n",
       "       [0.00457752, 0.99542248],\n",
       "       [0.0043431 , 0.9956569 ],\n",
       "       [0.81215007, 0.18784993],\n",
       "       [0.17428842, 0.82571158],\n",
       "       [0.92202382, 0.07797618],\n",
       "       [0.25481012, 0.74518988],\n",
       "       [0.63275644, 0.36724356],\n",
       "       [0.38753201, 0.61246799],\n",
       "       [0.00455108, 0.99544892],\n",
       "       [0.88879681, 0.11120319],\n",
       "       [0.01459374, 0.98540626],\n",
       "       [0.02246544, 0.97753456]])"
      ]
     },
     "execution_count": 113,
     "metadata": {},
     "output_type": "execute_result"
    }
   ],
   "source": [
    "modelcv.predict_proba(X_test_rfe)"
   ]
  },
  {
   "cell_type": "code",
   "execution_count": 114,
   "metadata": {},
   "outputs": [
    {
     "data": {
      "text/plain": [
       "array([1, 1, 0, 1, 1, 1, 1, 1, 1, 1, 1, 1, 1, 1, 1, 1, 1, 1, 1, 0, 1, 0,\n",
       "       0, 1, 1, 1, 0, 1, 1, 1, 0, 1, 1, 1, 1, 1, 1, 1, 1, 1, 1, 0, 0, 1,\n",
       "       0, 1, 1, 1, 1, 1, 1, 1, 1, 1, 0, 1, 0, 1, 1, 1, 1, 1, 1, 0, 1, 1,\n",
       "       0, 1, 1, 1, 1, 1, 1, 1, 1, 1, 0, 1, 1, 1, 1, 1, 1, 0, 1, 1, 1, 1,\n",
       "       0, 1, 1, 1, 1, 1, 1, 1, 1, 1, 1, 1, 1, 0, 1, 1, 1, 1, 1, 0, 1, 0,\n",
       "       1, 0, 1, 1, 0, 1, 1], dtype=int64)"
      ]
     },
     "execution_count": 114,
     "metadata": {},
     "output_type": "execute_result"
    }
   ],
   "source": [
    "modelcv.predict(X_test_rfe)"
   ]
  },
  {
   "cell_type": "code",
   "execution_count": 115,
   "metadata": {},
   "outputs": [
    {
     "name": "stdout",
     "output_type": "stream",
     "text": [
      "classes:  [0 1]\n",
      "coefficients:  [[ 0.03582462  0.09083042  0.89126999 -1.0603262   0.73760725 -0.94821925\n",
      "   0.41035934  0.6644457  -1.99859234 -0.04602216 -0.51387171 -0.13406312\n",
      "   1.69709469 -0.5720405   1.20501184 -0.30164164 -0.02285517 -1.32589294\n",
      "   1.63511358  1.12980235 -0.20568075  1.34100287 -0.50396907  0.53141581\n",
      "   0.079463    0.53746077  1.09847958  0.56318468  0.78924429  0.60740204\n",
      "   0.03915829  0.38533896  0.24873357 -0.39158982  0.38594861  0.35800743\n",
      "   0.0936979   1.13707111  1.44407772  0.83126656  1.13151171  0.14517347\n",
      "  -0.09229547  0.80295788  1.41876408 -0.12388887  0.23358143  0.93004641\n",
      "   0.80521249  0.62566913 -0.51351975  0.04529729  0.28076877  0.35880879\n",
      "  -0.91543815  0.3458263   0.59247086]]\n",
      "intercept : [-2.1277935]\n"
     ]
    }
   ],
   "source": [
    "print('classes: ',model.classes_)\n",
    "print('coefficients: ',model.coef_)\n",
    "print('intercept :',model.intercept_)"
   ]
  },
  {
   "cell_type": "code",
   "execution_count": 116,
   "metadata": {},
   "outputs": [
    {
     "name": "stdout",
     "output_type": "stream",
     "text": [
      "[[85  6]\n",
      " [11 15]]\n"
     ]
    }
   ],
   "source": [
    "predcv = modelcv.predict(X_test_rfe)\n",
    "labels = [1, 0]\n",
    "con_mat_cv = confusion_matrix(y_test, predcv, labels = labels )\n",
    "print(con_mat_cv)"
   ]
  },
  {
   "cell_type": "code",
   "execution_count": null,
   "metadata": {},
   "outputs": [],
   "source": []
  },
  {
   "cell_type": "code",
   "execution_count": null,
   "metadata": {},
   "outputs": [],
   "source": []
  },
  {
   "cell_type": "code",
   "execution_count": null,
   "metadata": {},
   "outputs": [],
   "source": []
  },
  {
   "cell_type": "code",
   "execution_count": null,
   "metadata": {},
   "outputs": [],
   "source": []
  },
  {
   "cell_type": "code",
   "execution_count": 117,
   "metadata": {},
   "outputs": [
    {
     "name": "stdout",
     "output_type": "stream",
     "text": [
      "Accuracy =  0.8547008547008547\n",
      "Model Score =  0.8547008547008547\n"
     ]
    },
    {
     "data": {
      "text/plain": [
       "0.8547008547008547"
      ]
     },
     "execution_count": 117,
     "metadata": {},
     "output_type": "execute_result"
    }
   ],
   "source": [
    "accuracy_cv=(con_mat_cv[0,0] + con_mat_cv[1,1])/y_test.size\n",
    "print(\"Accuracy = \",accuracy_cv)\n",
    "print(\"Model Score = \",modelcv.score(X_test_rfe, y_test))\n",
    "np.mean(y_test == predcv)"
   ]
  },
  {
   "cell_type": "code",
   "execution_count": 118,
   "metadata": {},
   "outputs": [
    {
     "data": {
      "image/png": "[encoded data removed]",
      "text/plain": [
       "<Figure size 432x288 with 1 Axes>"
      ]
     },
     "metadata": {
      "needs_background": "light"
     },
     "output_type": "display_data"
    }
   ],
   "source": [
    "##Computing false and true positive rates\n",
    "#fpr, tpr, threshold = roc_curve(y_test,result.predict_proba(X_test)[:,1],drop_intermediate=False)\n",
    "probscv = modelcv.predict_proba(X_test_rfe)\n",
    "predscv = probs[:,1]\n",
    "fprcv, tprcv, thresholdcv = roc_curve(y_test, predscv, drop_intermediate=False)\n",
    "roc_auccv = auc(fprcv, tprcv)\n",
    "plt.figure()\n",
    "##Adding the ROC\n",
    "plt.plot(fprcv, tprcv, 'r', label = 'AUC = %0.2f' % roc_auccv)\n",
    "##Random FPR and TPR\n",
    "plt.plot([0, 1], [0, 1], color='blue', lw=2, linestyle='--')\n",
    "##Title and label\n",
    "plt.legend(loc = 'lower right')\n",
    "plt.xlabel('FPR')\n",
    "plt.ylabel('TPR')\n",
    "plt.title('ROC curve')\n",
    "plt.savefig('LogisticRegression ROC curve', dpi=300, bbox_inches='tight')\n",
    "plt.show()"
   ]
  },
  {
   "cell_type": "code",
   "execution_count": null,
   "metadata": {},
   "outputs": [],
   "source": []
  },
  {
   "cell_type": "markdown",
   "metadata": {},
   "source": [
    "### Model LogisticRegression with GridCV gives the below metrics\n",
    "### Accuracy = 0.863\n",
    "### Confusion Matrix= [85  6]\n",
    "###  --------------------------[ 10 16]\n",
    "###  TP=85, TN= 16, FP=10, FN=6, N=117\n",
    "### AUC= 0.86\n",
    "### Precision= 0.89   \n",
    "### Recall = 0.93\n",
    "### Report for the same shown below"
   ]
  },
  {
   "cell_type": "code",
   "execution_count": 119,
   "metadata": {},
   "outputs": [
    {
     "name": "stdout",
     "output_type": "stream",
     "text": [
      "Report : \n",
      "              precision    recall  f1-score   support\n",
      "\n",
      "           0       0.71      0.58      0.64        26\n",
      "           1       0.89      0.93      0.91        91\n",
      "\n",
      "    accuracy                           0.85       117\n",
      "   macro avg       0.80      0.76      0.77       117\n",
      "weighted avg       0.85      0.85      0.85       117\n",
      "\n",
      "[[85  6]\n",
      " [11 15]]\n"
     ]
    }
   ],
   "source": [
    "actual = y_test\n",
    "predicted = predcv\n",
    "#results = confusion_matrix(actual, predicted) \n",
    "#print('Confusion Matrix :')\n",
    "#print(results) \n",
    "#print ('Accuracy Score :',accuracy_score(actual, predicted)) \n",
    "print ('Report : ')\n",
    "print (classification_report(actual, predicted))\n",
    "labels = [1, 0]\n",
    "print(confusion_matrix(y_test, predcv,labels = labels))\n",
    "report_dict = classification_report(actual, predicted,output_dict=True)\n",
    "dfcv=pd.DataFrame(report_dict)"
   ]
  },
  {
   "cell_type": "code",
   "execution_count": 120,
   "metadata": {},
   "outputs": [],
   "source": [
    "df1cv=dfcv.T"
   ]
  },
  {
   "cell_type": "code",
   "execution_count": 121,
   "metadata": {},
   "outputs": [],
   "source": [
    "df1cv=dfcv.T\n",
    "import dataframe_image as dfi\n",
    "dfi.export(df1cv, 'LR_Metrics.png')"
   ]
  },
  {
   "cell_type": "code",
   "execution_count": 122,
   "metadata": {},
   "outputs": [],
   "source": [
    "#pip install dataframe_image\n"
   ]
  },
  {
   "cell_type": "markdown",
   "metadata": {},
   "source": [
    "### here we have to limit false positive observation belonging to negative class and predicted incorrectly as positive\n",
    "\n",
    "### false positive rate FPR = 0.38"
   ]
  },
  {
   "cell_type": "code",
   "execution_count": null,
   "metadata": {},
   "outputs": [],
   "source": []
  },
  {
   "cell_type": "markdown",
   "metadata": {},
   "source": [
    "### RandomForest"
   ]
  },
  {
   "cell_type": "code",
   "execution_count": 123,
   "metadata": {},
   "outputs": [
    {
     "name": "stdout",
     "output_type": "stream",
     "text": [
      "              precision    recall  f1-score   support\n",
      "\n",
      "           0       0.84      0.62      0.71        26\n",
      "           1       0.90      0.97      0.93        91\n",
      "\n",
      "    accuracy                           0.89       117\n",
      "   macro avg       0.87      0.79      0.82       117\n",
      "weighted avg       0.89      0.89      0.88       117\n",
      "\n",
      "[[88  3]\n",
      " [10 16]]\n"
     ]
    }
   ],
   "source": [
    "from sklearn.ensemble import RandomForestClassifier\n",
    "rfc = RandomForestClassifier()\n",
    "rfc.fit(X, y)\n",
    "\n",
    "rfc_pred = rfc.predict(X_test_rfe)\n",
    "\n",
    "print(classification_report(y_test, rfc_pred))\n",
    "\n",
    "labels = [1, 0]\n",
    "\n",
    "print(confusion_matrix(y_test, rfc_pred,labels = labels))\n",
    "\n",
    "report_dict_RF = classification_report(y_test, rfc_pred,output_dict=True)\n",
    "dfrfc=pd.DataFrame(report_dict_RF)"
   ]
  },
  {
   "cell_type": "code",
   "execution_count": 124,
   "metadata": {},
   "outputs": [],
   "source": [
    "df1rfc=dfrfc.T\n",
    "import dataframe_image as dfi\n",
    "dfi.export(df1rfc, 'RF_Metrics.png')"
   ]
  },
  {
   "cell_type": "code",
   "execution_count": 125,
   "metadata": {},
   "outputs": [
    {
     "data": {
      "image/png": "[encoded data removed]",
      "text/plain": [
       "<Figure size 432x288 with 1 Axes>"
      ]
     },
     "metadata": {
      "needs_background": "light"
     },
     "output_type": "display_data"
    }
   ],
   "source": [
    "##Computing false and true positive rates\n",
    "#fpr, tpr, threshold = roc_curve(y_test,result.predict_proba(X_test)[:,1],drop_intermediate=False)\n",
    "probsrfc = rfc.predict_proba(X_test_rfe)\n",
    "predsrfc = probs[:,1]\n",
    "fprrfc, tprrfc, thresholdrfc = roc_curve(y_test, predsrfc, drop_intermediate=False)\n",
    "roc_aucrfc = auc(fprrfc, tprrfc)\n",
    "plt.figure()\n",
    "##Adding the ROC\n",
    "plt.plot(fprrfc, tprrfc, 'r', label = 'AUC = %0.2f' % roc_aucrfc)\n",
    "##Random FPR and TPR\n",
    "plt.plot([0, 1], [0, 1], color='blue', lw=2, linestyle='--')\n",
    "##Title and label\n",
    "plt.legend(loc = 'lower right')\n",
    "plt.xlabel('FPR')\n",
    "plt.ylabel('TPR')\n",
    "plt.title('ROC curve')\n",
    "plt.savefig('RandomForest ROC curve', dpi=300, bbox_inches='tight')\n",
    "plt.show()"
   ]
  },
  {
   "cell_type": "markdown",
   "metadata": {},
   "source": [
    "### KNN"
   ]
  },
  {
   "cell_type": "code",
   "execution_count": 126,
   "metadata": {},
   "outputs": [],
   "source": [
    "from sklearn.neighbors import KNeighborsClassifier"
   ]
  },
  {
   "cell_type": "code",
   "execution_count": 127,
   "metadata": {},
   "outputs": [],
   "source": [
    "from sklearn.metrics import confusion_matrix, classification_report, precision_score, recall_score, accuracy_score"
   ]
  },
  {
   "cell_type": "code",
   "execution_count": 128,
   "metadata": {},
   "outputs": [
    {
     "data": {
      "text/plain": [
       "<AxesSubplot:>"
      ]
     },
     "execution_count": 128,
     "metadata": {},
     "output_type": "execute_result"
    },
    {
     "data": {
      "image/png": "[encoded data removed]",
      "text/plain": [
       "<Figure size 432x288 with 1 Axes>"
      ]
     },
     "metadata": {
      "needs_background": "light"
     },
     "output_type": "display_data"
    }
   ],
   "source": [
    "error_rate = []\n",
    "\n",
    "for i in range(1,11):\n",
    "    \n",
    "    knn = KNeighborsClassifier(n_neighbors=i)\n",
    "    knn.fit(X,y)\n",
    "    pred_i = knn.predict(X_test_rfe)\n",
    "    error_rate.append([accuracy_score(y_test, pred_i), precision_score(y_test, pred_i), \n",
    "                       recall_score(y_test, pred_i)])\n",
    "\n",
    "error_rate = pd.DataFrame(error_rate, columns=['accuracy_score', 'precision_score', 'recall_score'])\n",
    "error_rate.plot()"
   ]
  },
  {
   "cell_type": "code",
   "execution_count": 129,
   "metadata": {},
   "outputs": [
    {
     "name": "stdout",
     "output_type": "stream",
     "text": [
      "              precision    recall  f1-score   support\n",
      "\n",
      "           0       0.72      0.69      0.71        26\n",
      "           1       0.91      0.92      0.92        91\n",
      "\n",
      "    accuracy                           0.87       117\n",
      "   macro avg       0.82      0.81      0.81       117\n",
      "weighted avg       0.87      0.87      0.87       117\n",
      "\n",
      "[[84  7]\n",
      " [ 8 18]]\n"
     ]
    }
   ],
   "source": [
    "knn_model = KNeighborsClassifier(n_neighbors=110, weights = 'distance')\n",
    "knn_model.fit(X,y)\n",
    "\n",
    "knn_pred = knn_model.predict(X_test_rfe)\n",
    "labels = [1, 0]\n",
    "print(classification_report(y_test, knn_pred))\n",
    "print(confusion_matrix(y_test, knn_pred,labels = labels))\n",
    "report_dict_knn = classification_report(y_test, knn_pred,output_dict=True)\n",
    "dfknn=pd.DataFrame(report_dict_knn)"
   ]
  },
  {
   "cell_type": "code",
   "execution_count": 130,
   "metadata": {},
   "outputs": [],
   "source": [
    "df1knn=dfknn.T\n",
    "import dataframe_image as dfi\n",
    "dfi.export(df1knn, 'KNN_Metrics.png')"
   ]
  },
  {
   "cell_type": "code",
   "execution_count": 131,
   "metadata": {},
   "outputs": [
    {
     "data": {
      "text/plain": [
       "{'n_neighbors': 100, 'weights': 'distance'}"
      ]
     },
     "execution_count": 131,
     "metadata": {},
     "output_type": "execute_result"
    }
   ],
   "source": [
    "from sklearn.neighbors import KNeighborsClassifier\n",
    "from sklearn.model_selection import GridSearchCV, StratifiedKFold\n",
    "\n",
    "params = {'n_neighbors':range(1,150),\n",
    "          'weights':['uniform', 'distance']\n",
    "         }\n",
    "\n",
    "kfold = StratifiedKFold(n_splits=5, shuffle=True, random_state=10)\n",
    "\n",
    "knn = KNeighborsClassifier()\n",
    "\n",
    "model = GridSearchCV(knn, params, cv=kfold)\n",
    "model.fit(X, y)\n",
    "\n",
    "model.best_params_"
   ]
  },
  {
   "cell_type": "code",
   "execution_count": 132,
   "metadata": {},
   "outputs": [
    {
     "data": {
      "image/png": "[encoded data removed]",
      "text/plain": [
       "<Figure size 432x288 with 1 Axes>"
      ]
     },
     "metadata": {
      "needs_background": "light"
     },
     "output_type": "display_data"
    }
   ],
   "source": [
    "##Computing false and true positive rates\n",
    "#fpr, tpr, threshold = roc_curve(y_test,result.predict_proba(X_test)[:,1],drop_intermediate=False)\n",
    "probsknn = knn_model.predict_proba(X_test_rfe)\n",
    "predsknn = probs[:,1]\n",
    "fprknn, tprknn, thresholdknn = roc_curve(y_test, predsknn, drop_intermediate=False)\n",
    "roc_aucknn = auc(fprknn, tprknn)\n",
    "plt.figure()\n",
    "##Adding the ROC\n",
    "plt.plot(fprknn, tprknn, 'r', label = 'AUC = %0.2f' % roc_aucknn)\n",
    "##Random FPR and TPR\n",
    "plt.plot([0, 1], [0, 1], color='blue', lw=2, linestyle='--')\n",
    "##Title and label\n",
    "plt.legend(loc = 'lower right')\n",
    "plt.xlabel('FPR')\n",
    "plt.ylabel('TPR')\n",
    "plt.title('ROC curve')\n",
    "plt.savefig('KNN ROC curve', dpi=300, bbox_inches='tight')\n",
    "plt.show()"
   ]
  },
  {
   "cell_type": "markdown",
   "metadata": {},
   "source": [
    "### RandomForest Model is better for churn prediction\n",
    "### Accuracy = 0.87\n",
    "### Confusion Matrix= [86  5]\n",
    "###  --------------------------[ 10 16]\n",
    "###  TP=86, TN= 16, FP=10, FN=5, N=117\n",
    "### AUC= 0.86\n",
    "### Precision= 0.90   \n",
    "### Recall = 0.95"
   ]
  },
  {
   "cell_type": "code",
   "execution_count": 133,
   "metadata": {},
   "outputs": [],
   "source": [
    "from tkinter import *\n",
    "from tkinter.messagebox import *\n",
    "from PIL import ImageTk, Image\n",
    "root = Tk()\n",
    "\n",
    "root.geometry=('300 X 300')\n",
    "root.title(\"Churn Prediction\")\n",
    "#app = tk.Tk()\n",
    "#root.title(\"Dynamically resize background Image\")\n",
    "def event1():\n",
    "    newWindow1 = Toplevel(root)\n",
    "    #newWindow1.geometry=('300 X 300')\n",
    "    newWindow1.title(\"Model 1 builded using LogisticRegression\")\n",
    "    # open image file\n",
    "    bg1 = ImageTk.PhotoImage(file=\"LogisticRegression ROC curve.png\")\n",
    "    # create canvas\n",
    "    canvas1 = Canvas(newWindow1, width=500, height=500)\n",
    "    canvas1.pack(fill=BOTH, expand=True)\n",
    "    # place the image inside canvas\n",
    "    canvas1.create_image(0, 0, image=bg1, anchor='nw')\n",
    "    # resize function for resizing the image\n",
    "    # with proper width and height of root window\n",
    "    def resize_bg1(event):\n",
    "        global bgg1, resized1, bg21\n",
    "        # open image to resize it\n",
    "        bgg1 = Image.open(\"LogisticRegression ROC curve.png\")\n",
    "        # resize the image with width and height of root\n",
    "        resized1 = bgg1.resize((event.width, event.height),Image.ANTIALIAS)\n",
    "    \n",
    "        bg21 = ImageTk.PhotoImage(resized1)\n",
    "        canvas1.create_image(0, 0, image=bg21, anchor=NW)\n",
    "    # bind resized function with root window\n",
    "\n",
    "    newWindow1.bind(\"<Configure>\", resize_bg1)\n",
    "    \n",
    "   \n",
    "    label1 = Label(newWindow1, text =\"Accuracy = 0.863, AUC= 0.86, Precision= 0.89, Recall = 0.93\")\n",
    "    label1.config(font=(\"bold\", 15))\n",
    "    label1.pack()\n",
    "    \n",
    "    \n",
    "    \n",
    "\n",
    "\n",
    "def event11():\n",
    "    newWindow2 = Toplevel(root)\n",
    "    #newWindow2.geometry=('300 X 300')\n",
    "    newWindow2.title(\"Model 2 builded using RandomForestRegressor\")\n",
    "    # open image file\n",
    "    bg2 = ImageTk.PhotoImage(file=\"RandomForest ROC curve.png\")\n",
    "    # create canvas\n",
    "    canvas2 = Canvas(newWindow2, width=500, height=500)\n",
    "    canvas2.pack(fill=BOTH, expand=True)\n",
    "    # place the image inside canvas\n",
    "    canvas2.create_image(0, 0, image=bg2, anchor=NW)\n",
    "    # resize function for resizing the image\n",
    "    # with proper width and height of root window\n",
    "    def resize_bg2(event):\n",
    "        global bgg2, resized2, bg22\n",
    "        # open image to resize it\n",
    "        bgg2 = Image.open(\"RandomForest ROC curve.png\")\n",
    "        # resize the image with width and height of root\n",
    "        resized2 = bgg2.resize((event.width, event.height),Image.ANTIALIAS)\n",
    "    \n",
    "        bg22 = ImageTk.PhotoImage(resized2)\n",
    "        canvas2.create_image(0, 0, image=bg22, anchor=NW)\n",
    "    # bind resized function with root window\n",
    "\n",
    "    newWindow2.bind(\"<Configure>\", resize_bg2)\n",
    "    \n",
    "    label2 = Label(newWindow2, text =\"Accuracy = 0.87, AUC= 0.86, Precision= 0.90, Recall = 0.95\")\n",
    "    label2.config(font=(\"bold\", 15))\n",
    "    label2.pack()\n",
    "    \n",
    "    \n",
    "    \n",
    "\n",
    "b1=Button(root,text='Model 1 LR ROC and MetricsC',command=event1).pack(side = LEFT)\n",
    "#b2=Button(root,text='Model 1 LR Metrics',command=event2).pack(side = LEFT)\n",
    "#b2=Button(root,text='Model 1 Metrics',command=event2).pack(side = LEFT)\n",
    "b11=Button(root,text='Model 2 RF ROC and Metrics',command=event11).pack(side = RIGHT)\n",
    "#b22=Button(root,text='Model 2 Metrics',command=event22).pack(side = RIGHT)\n",
    "#b111=Button(root,text='Model 3 KNN Graph and Metrics',command=event111).pack(side = RIGHT)\n",
    "\n",
    "root.mainloop()"
   ]
  },
  {
   "cell_type": "code",
   "execution_count": null,
   "metadata": {},
   "outputs": [],
   "source": []
  }
 ],
 "metadata": {
  "kernelspec": {
   "display_name": "Python 3",
   "language": "python",
   "name": "python3"
  },
  "language_info": {
   "codemirror_mode": {
    "name": "ipython",
    "version": 3
   },
   "file_extension": ".py",
   "mimetype": "text/x-python",
   "name": "python",
   "nbconvert_exporter": "python",
   "pygments_lexer": "ipython3",
   "version": "3.8.10"
  }
 },
 "nbformat": 4,
 "nbformat_minor": 4
}
